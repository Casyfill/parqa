{
 "cells": [
  {
   "cell_type": "code",
   "execution_count": 2,
   "metadata": {
    "collapsed": true
   },
   "outputs": [],
   "source": [
    "import pandas as pd\n",
    "import numpy as np\n",
    "import os\n",
    "import geopandas as gp"
   ]
  },
  {
   "cell_type": "code",
   "execution_count": 3,
   "metadata": {
    "collapsed": false
   },
   "outputs": [
    {
     "name": "stdout",
     "output_type": "stream",
     "text": [
      "reading PIP_InspectionMain.xlsx...\n"
     ]
    }
   ],
   "source": [
    "# -- read the inspection files\n",
    "try:\n",
    "    inspection\n",
    "except:\n",
    "    print(\"reading PIP_InspectionMain.xlsx...\")\n",
    "    in_path = os.path.join('/projects/cusp/10266/0/quality_assessment','PIP')\n",
    "    in_name = os.path.join(in_path,'PIP_InspectionMain.xlsx')\n",
    "    inspection  = pd.read_excel(in_name)"
   ]
  },
  {
   "cell_type": "code",
   "execution_count": 4,
   "metadata": {
    "collapsed": false
   },
   "outputs": [
    {
     "name": "stdout",
     "output_type": "stream",
     "text": [
      "reading PIP_ALLSITES.xlsx...\n"
     ]
    }
   ],
   "source": [
    "# -- get all the ratings information\n",
    "try:\n",
    "    rating\n",
    "except:\n",
    "    print(\"reading PIP_ALLSITES.xlsx...\")\n",
    "    as_path  = os.path.join('/projects/cusp/10266/0/quality_assessment','PIP')\n",
    "    as_name  = os.path.join(as_path,'PIP_FeatureRatings.xlsx')\n",
    "    rating = pd.read_excel(as_name)\n",
    "    \n",
    "    # -- Sustitute numerical values to ratings\n",
    "    rating.loc[rating['Rating'] == 'a', ['Rating']] = 1\n",
    "    rating.loc[rating['Rating'] == 'A', ['Rating']] = 1\n",
    "    rating.loc[rating['Rating'] == 'N', ['Rating']] = np.nan\n",
    "    rating.loc[rating['Rating'] == 'U', ['Rating']] = 0\n",
    "    rating.loc[rating['Rating'] == 'U/S', ['Rating']] = 0"
   ]
  },
  {
   "cell_type": "code",
   "execution_count": 5,
   "metadata": {
    "collapsed": false
   },
   "outputs": [
    {
     "name": "stdout",
     "output_type": "stream",
     "text": [
      "reading PIP_ALLSITES.xlsx...\n"
     ]
    }
   ],
   "source": [
    "# -- get all the sites information\n",
    "try:\n",
    "    sites\n",
    "except:\n",
    "    print(\"reading PIP_ALLSITES.xlsx...\")\n",
    "    as_path  = os.path.join('/projects/cusp/10266/0/quality_assessment','PIP')\n",
    "    as_name  = os.path.join(as_path,'PIP_ALLSITES.xlsx')\n",
    "    sites = pd.read_excel(as_name)"
   ]
  },
  {
   "cell_type": "code",
   "execution_count": 6,
   "metadata": {
    "collapsed": false
   },
   "outputs": [
    {
     "name": "stdout",
     "output_type": "stream",
     "text": [
      "reading Property.shp...\n"
     ]
    }
   ],
   "source": [
    "# -- read in the property files\n",
    "try:\n",
    "    prop\n",
    "except:\n",
    "    print(\"reading Property.shp...\")\n",
    "    pr_path = os.path.join('/scratch/share/gdobler/parqa/output','CUSPExportShps')\n",
    "    pr_name = os.path.join(pr_path,'Property.shp')\n",
    "    prop    = gp.GeoDataFrame.from_file(pr_name)"
   ]
  },
  {
   "cell_type": "code",
   "execution_count": 7,
   "metadata": {
    "collapsed": false
   },
   "outputs": [],
   "source": [
    "# -- pull off only first zip in list (if there are multiple)\n",
    "prop.ZIPCODE = prop.ZIPCODE.apply(lambda x: x[:5])"
   ]
  },
  {
   "cell_type": "code",
   "execution_count": 8,
   "metadata": {
    "collapsed": false
   },
   "outputs": [],
   "source": [
    "# -- Change Rating type to float for calculations\n",
    "rating[['Rating']] = rating[['Rating']].astype(float)"
   ]
  },
  {
   "cell_type": "code",
   "execution_count": 9,
   "metadata": {
    "collapsed": false
   },
   "outputs": [],
   "source": [
    "# -- Create pivot table of inspections.\n",
    "pivotInspect = rating.pivot(index='Inspection ID', columns = 'Feature', values = 'Rating')"
   ]
  },
  {
   "cell_type": "code",
   "execution_count": 10,
   "metadata": {
    "collapsed": false
   },
   "outputs": [],
   "source": [
    "# -- create the base ID column  MAY HAVE TO BE TWEAKED\n",
    "inspection['PID_base'] = [i.split('-')[0].replace('Z','') \n",
    "                      for i in inspection['Prop ID']]"
   ]
  },
  {
   "cell_type": "code",
   "execution_count": 11,
   "metadata": {
    "collapsed": true
   },
   "outputs": [],
   "source": [
    "# -- Remove Greenstreets from sites\n",
    "sites = sites[sites['Category'] != 'Greenstreet']"
   ]
  },
  {
   "cell_type": "code",
   "execution_count": 12,
   "metadata": {
    "collapsed": true
   },
   "outputs": [],
   "source": [
    "# -- Merge inspection report with sites [Greenstreets are removed from sites]\n",
    "finalDF = pd.merge(sites, inspection, on = 'Prop ID', how = 'left')"
   ]
  },
  {
   "cell_type": "code",
   "execution_count": 13,
   "metadata": {
    "collapsed": false
   },
   "outputs": [],
   "source": [
    "# -- Drop sites that have inspections\n",
    "finalDF = finalDF[finalDF['Inspection ID'].notnull()]"
   ]
  },
  {
   "cell_type": "code",
   "execution_count": 14,
   "metadata": {
    "collapsed": false
   },
   "outputs": [],
   "source": [
    "# -- Merge frame with pivot table of inspections on Inspection ID\n",
    "finalDF = pd.merge(finalDF, pivotInspect, left_on='Inspection ID', right_index = True, how='left')"
   ]
  },
  {
   "cell_type": "code",
   "execution_count": 15,
   "metadata": {
    "collapsed": true
   },
   "outputs": [],
   "source": [
    "##### -- Merge the inspection and properties information\n",
    "finalDF = pd.merge(finalDF, prop, 'left', left_on='PID_base', \n",
    "                  right_on='GISPROPNUM')"
   ]
  },
  {
   "cell_type": "code",
   "execution_count": 16,
   "metadata": {
    "collapsed": true
   },
   "outputs": [],
   "source": [
    "# -- check if there are inspected parks that aren't in allsites\n",
    "check_ALLSITES = False\n",
    "if check_ALLSITES:\n",
    "    print(\"checking allsites file...\")\n",
    "    for ii,pid in enumerate(inspection['Prop ID']):\n",
    "        flag = True\n",
    "        for asid in sites['Prop ID']:\n",
    "            if pid==asid:\n",
    "                flag = False\n",
    "                break\n",
    "        if flag:\n",
    "            print(\"couldn't find {0} : {1}\".format(ii,pid))"
   ]
  },
  {
   "cell_type": "code",
   "execution_count": 17,
   "metadata": {
    "collapsed": false
   },
   "outputs": [],
   "source": [
    "# -- check features file\n",
    "check_FEATRAT = False\n",
    "if check_FEATRAT:\n",
    "    for ii,iid in enumerate(inspection['Inspection ID']):\n",
    "        if iid not in pivotInspect.index:\n",
    "            print(\"couldn't find {0} : Inspection ID: {1}\".format(ii,iid))"
   ]
  },
  {
   "cell_type": "code",
   "execution_count": 18,
   "metadata": {
    "collapsed": false
   },
   "outputs": [],
   "source": [
    "# -- check properties\n",
    "check_PROP = False\n",
    "if check_PROP:\n",
    "    print(\"checking properties file...\")\n",
    "    pid_bad = []\n",
    "    pid_bad_ii = []\n",
    "    for ii,pid in enumerate(inspection['PID_base']):\n",
    "        flag = True\n",
    "        for gpn in prop.GISPROPNUM:\n",
    "            if pid==gpn:\n",
    "                flag = False\n",
    "                break\n",
    "        if flag:\n",
    "            if pid not in pid_bad:\n",
    "                pid_bad_ii.append(ii)\n",
    "                pid_bad.append(pid)\n",
    "            print(\"couldn't find {0} : {1}\".format(ii,pid))\n",
    "\n",
    "    for ii in range(len(pid_bad_ii)):\n",
    "        subcat = sites.iloc[sites[sites['Prop ID'] == \\\n",
    "                                inspection.iloc[pid_bad_ii[ii]]['Prop ID']] \\\n",
    "                                .index[0]]['Sub-Category']\n",
    "        print(\"{0:8} : {1}\" \\\n",
    "                  .format(inspection.iloc[pid_bad_ii[ii]]['Prop ID'],subcat))"
   ]
  },
  {
   "cell_type": "code",
   "execution_count": 19,
   "metadata": {
    "collapsed": false
   },
   "outputs": [
    {
     "ename": "IOError",
     "evalue": "[Errno 2] No such file or directory: '/scratch/share/gdobler/parqa/output/Dataframes/2004_Inspections.csv'",
     "output_type": "error",
     "traceback": [
      "\u001b[1;31m---------------------------------------------------------------------------\u001b[0m",
      "\u001b[1;31mIOError\u001b[0m                                   Traceback (most recent call last)",
      "\u001b[1;32m<ipython-input-19-6a26552eb35d>\u001b[0m in \u001b[0;36m<module>\u001b[1;34m()\u001b[0m\n\u001b[0;32m      7\u001b[0m     \u001b[0myearDF\u001b[0m \u001b[1;33m=\u001b[0m \u001b[0mfinalDF\u001b[0m\u001b[1;33m[\u001b[0m\u001b[0mfinalDF\u001b[0m\u001b[1;33m[\u001b[0m\u001b[1;34m'Date'\u001b[0m\u001b[1;33m]\u001b[0m\u001b[1;33m.\u001b[0m\u001b[0mmap\u001b[0m\u001b[1;33m(\u001b[0m\u001b[1;32mlambda\u001b[0m \u001b[0mx\u001b[0m\u001b[1;33m:\u001b[0m \u001b[0mx\u001b[0m\u001b[1;33m.\u001b[0m\u001b[0myear\u001b[0m\u001b[1;33m)\u001b[0m \u001b[1;33m==\u001b[0m \u001b[0myear\u001b[0m\u001b[1;33m]\u001b[0m\u001b[1;33m.\u001b[0m\u001b[0mreset_index\u001b[0m\u001b[1;33m(\u001b[0m\u001b[0mdrop\u001b[0m\u001b[1;33m=\u001b[0m\u001b[0mTrue\u001b[0m\u001b[1;33m)\u001b[0m\u001b[1;33m\u001b[0m\u001b[0m\n\u001b[0;32m      8\u001b[0m     \u001b[0mout_year_filename\u001b[0m \u001b[1;33m=\u001b[0m \u001b[0mos\u001b[0m\u001b[1;33m.\u001b[0m\u001b[0mpath\u001b[0m\u001b[1;33m.\u001b[0m\u001b[0mjoin\u001b[0m\u001b[1;33m(\u001b[0m\u001b[0mout_year_path\u001b[0m\u001b[1;33m,\u001b[0m \u001b[0mstr\u001b[0m\u001b[1;33m(\u001b[0m\u001b[0myear\u001b[0m\u001b[1;33m)\u001b[0m \u001b[1;33m+\u001b[0m \u001b[1;34m'_Inspections.csv'\u001b[0m\u001b[1;33m)\u001b[0m\u001b[1;33m\u001b[0m\u001b[0m\n\u001b[1;32m----> 9\u001b[1;33m     \u001b[0myearDF\u001b[0m\u001b[1;33m.\u001b[0m\u001b[0mto_csv\u001b[0m\u001b[1;33m(\u001b[0m\u001b[0mout_year_filename\u001b[0m\u001b[1;33m,\u001b[0m \u001b[0msep\u001b[0m\u001b[1;33m=\u001b[0m\u001b[1;34m'\\t'\u001b[0m\u001b[1;33m,\u001b[0m \u001b[0mencoding\u001b[0m\u001b[1;33m=\u001b[0m\u001b[1;34m'utf-8'\u001b[0m\u001b[1;33m)\u001b[0m\u001b[1;33m\u001b[0m\u001b[0m\n\u001b[0m",
      "\u001b[1;32m/opt/rh/anaconda/root/lib/python2.7/site-packages/pandas/core/frame.pyc\u001b[0m in \u001b[0;36mto_csv\u001b[1;34m(self, path_or_buf, sep, na_rep, float_format, columns, header, index, index_label, mode, encoding, quoting, quotechar, line_terminator, chunksize, tupleize_cols, date_format, doublequote, escapechar, decimal, **kwds)\u001b[0m\n\u001b[0;32m   1182\u001b[0m                                      \u001b[0mescapechar\u001b[0m\u001b[1;33m=\u001b[0m\u001b[0mescapechar\u001b[0m\u001b[1;33m,\u001b[0m\u001b[1;33m\u001b[0m\u001b[0m\n\u001b[0;32m   1183\u001b[0m                                      decimal=decimal)\n\u001b[1;32m-> 1184\u001b[1;33m         \u001b[0mformatter\u001b[0m\u001b[1;33m.\u001b[0m\u001b[0msave\u001b[0m\u001b[1;33m(\u001b[0m\u001b[1;33m)\u001b[0m\u001b[1;33m\u001b[0m\u001b[0m\n\u001b[0m\u001b[0;32m   1185\u001b[0m \u001b[1;33m\u001b[0m\u001b[0m\n\u001b[0;32m   1186\u001b[0m         \u001b[1;32mif\u001b[0m \u001b[0mpath_or_buf\u001b[0m \u001b[1;32mis\u001b[0m \u001b[0mNone\u001b[0m\u001b[1;33m:\u001b[0m\u001b[1;33m\u001b[0m\u001b[0m\n",
      "\u001b[1;32m/opt/rh/anaconda/root/lib/python2.7/site-packages/pandas/core/format.pyc\u001b[0m in \u001b[0;36msave\u001b[1;34m(self)\u001b[0m\n\u001b[0;32m   1415\u001b[0m         \u001b[1;32melse\u001b[0m\u001b[1;33m:\u001b[0m\u001b[1;33m\u001b[0m\u001b[0m\n\u001b[0;32m   1416\u001b[0m             f = com._get_handle(self.path_or_buf, self.mode,\n\u001b[1;32m-> 1417\u001b[1;33m                                 encoding=self.encoding)\n\u001b[0m\u001b[0;32m   1418\u001b[0m             \u001b[0mclose\u001b[0m \u001b[1;33m=\u001b[0m \u001b[0mTrue\u001b[0m\u001b[1;33m\u001b[0m\u001b[0m\n\u001b[0;32m   1419\u001b[0m \u001b[1;33m\u001b[0m\u001b[0m\n",
      "\u001b[1;32m/opt/rh/anaconda/root/lib/python2.7/site-packages/pandas/core/common.pyc\u001b[0m in \u001b[0;36m_get_handle\u001b[1;34m(path, mode, encoding, compression)\u001b[0m\n\u001b[0;32m   2829\u001b[0m                 \u001b[0mf\u001b[0m \u001b[1;33m=\u001b[0m \u001b[0mopen\u001b[0m\u001b[1;33m(\u001b[0m\u001b[0mpath\u001b[0m\u001b[1;33m,\u001b[0m \u001b[0mmode\u001b[0m\u001b[1;33m,\u001b[0m \u001b[0merrors\u001b[0m\u001b[1;33m=\u001b[0m\u001b[1;34m'replace'\u001b[0m\u001b[1;33m)\u001b[0m\u001b[1;33m\u001b[0m\u001b[0m\n\u001b[0;32m   2830\u001b[0m         \u001b[1;32melse\u001b[0m\u001b[1;33m:\u001b[0m\u001b[1;33m\u001b[0m\u001b[0m\n\u001b[1;32m-> 2831\u001b[1;33m             \u001b[0mf\u001b[0m \u001b[1;33m=\u001b[0m \u001b[0mopen\u001b[0m\u001b[1;33m(\u001b[0m\u001b[0mpath\u001b[0m\u001b[1;33m,\u001b[0m \u001b[0mmode\u001b[0m\u001b[1;33m)\u001b[0m\u001b[1;33m\u001b[0m\u001b[0m\n\u001b[0m\u001b[0;32m   2832\u001b[0m \u001b[1;33m\u001b[0m\u001b[0m\n\u001b[0;32m   2833\u001b[0m     \u001b[1;32mreturn\u001b[0m \u001b[0mf\u001b[0m\u001b[1;33m\u001b[0m\u001b[0m\n",
      "\u001b[1;31mIOError\u001b[0m: [Errno 2] No such file or directory: '/scratch/share/gdobler/parqa/output/Dataframes/2004_Inspections.csv'"
     ]
    }
   ],
   "source": [
    "# -- export Year files\n",
    "#out_year_path = os.path.join('../../parqa/Outputs','Dataframes')\n",
    "out_year_path = os.path.join('/scratch/share/gdobler/parqa/output','Dataframes')\n",
    "inspecYears = sorted(set(map(lambda x: x.year, finalDF['Date'])))\n",
    "\n",
    "for year in inspecYears:\n",
    "    yearDF = finalDF[finalDF['Date'].map(lambda x: x.year) == year].reset_index(drop=True)\n",
    "    out_year_filename = os.path.join(out_year_path, str(year) + '_Inspections.csv')\n",
    "    yearDF.to_csv(out_year_filename, sep='\\t', encoding='utf-8')"
   ]
  },
  {
   "cell_type": "code",
   "execution_count": 20,
   "metadata": {
    "collapsed": false
   },
   "outputs": [],
   "source": [
    "# -- test Read\n",
    "#yearDemoDF = pd.DataFrame.from_csv(out_year_filename.replace('15', '08'), sep='\\t')\n",
    "yearDemoDF = finalDF"
   ]
  },
  {
   "cell_type": "code",
   "execution_count": 21,
   "metadata": {
    "collapsed": false
   },
   "outputs": [],
   "source": [
    "# -- categories\n",
    "categories = [u'Athletic Fields', u'Benches',\n",
    "       u'Fences', u'Glass', u'Graffiti', u'Horticultural Areas', u'Ice',\n",
    "       u'Lawns', u'Litter', u'Paved Surfaces', u'Play Equipment',\n",
    "       u'Safety Surface', u'Sidewalks', u'Trails', u'Trees', u'Water Bodies',\n",
    "       u'Weeds']"
   ]
  },
  {
   "cell_type": "code",
   "execution_count": 22,
   "metadata": {
    "collapsed": true
   },
   "outputs": [],
   "source": [
    "# -- calculate inspection scores [ratio]\n",
    "yearDemoDF['Ratings Ratio'] = yearDemoDF[categories].mean(axis=1)"
   ]
  },
  {
   "cell_type": "code",
   "execution_count": 23,
   "metadata": {
    "collapsed": false
   },
   "outputs": [],
   "source": [
    "# -- seed final park stats DF\n",
    "byParkID = yearDemoDF[['Prop ID', 'PID_base', 'Category', 'ZIPCODE']].groupby(['Prop ID'], as_index = False)\n",
    "parkStats = byParkID.first()\n",
    "\n",
    "# -- average Park Score and Acres\n",
    "byParkBase = yearDemoDF.groupby(['PID_base'], as_index = False)\n",
    "parkAvgScore = byParkBase['Ratings Ratio','ACRES_x'].mean()\n",
    "parkAvgScore.rename(columns={'Ratings Ratio':'Avg Ratio'}, inplace=True)\n",
    "parkStats = pd.merge(parkStats, parkAvgScore, on='PID_base', how='left')\n",
    "\n",
    "# -- calculate weighted Score for park\n",
    "parkStats['Weighted Score'] = parkStats['Avg Ratio'] * parkStats['ACRES_x']"
   ]
  },
  {
   "cell_type": "code",
   "execution_count": 24,
   "metadata": {
    "collapsed": false
   },
   "outputs": [],
   "source": [
    "# -- seed district_category stats DF\n",
    "byCategory = parkStats.groupby(['ZIPCODE', 'Category'], as_index = False)\n",
    "categoryStats = byCategory.first()[['ZIPCODE', 'Category']]\n",
    "\n",
    "# -- sum Acres and Scores per category\n",
    "catSums = byCategory['ACRES_x', 'Weighted Score'].sum()\n",
    "catSums.rename(columns={'Weighted Score':'Score'}, inplace=True)\n",
    "categoryStats = pd.merge(categoryStats, catSums, on=['ZIPCODE', 'Category'], how='left')\n",
    "\n",
    "# -- count parks per category\n",
    "catCounts = byCategory.size().reset_index().rename(columns={0:'Counts'})\n",
    "categoryStats = pd.merge(categoryStats, catCounts, on=['ZIPCODE', 'Category'], how='left')"
   ]
  },
  {
   "cell_type": "code",
   "execution_count": 25,
   "metadata": {
    "collapsed": false
   },
   "outputs": [],
   "source": [
    "# -- group by zipcode and category\n",
    "byZIPCODE = categoryStats.groupby('ZIPCODE', as_index = False)\n",
    "ZIPCODESums = byZIPCODE.sum()[['ZIPCODE', 'Counts']]\n",
    "\n",
    "categoryStats = pd.merge(categoryStats, ZIPCODESums, on='ZIPCODE', how = 'left', suffixes = ['_Cat', '_ZIPCODE'])"
   ]
  },
  {
   "cell_type": "code",
   "execution_count": 26,
   "metadata": {
    "collapsed": false
   },
   "outputs": [],
   "source": [
    "# -- calculate weighted score for zipcode\n",
    "categoryStats['Weighted Score'] = categoryStats['Score'] / categoryStats['ACRES_x']\n",
    "categoryStats['Normalized Score'] = categoryStats['Weighted Score'] * (categoryStats['Counts_Cat'] / categoryStats['Counts_ZIPCODE'])"
   ]
  },
  {
   "cell_type": "code",
   "execution_count": 27,
   "metadata": {
    "collapsed": false
   },
   "outputs": [],
   "source": [
    "# -- sum Scores per Zipcode\n",
    "byZIPCODE = categoryStats.groupby('ZIPCODE')\n",
    "ZIPCODEStats = byZIPCODE \\\n",
    "                    .sum() \\\n",
    "                    .reset_index() \\\n",
    "                    [['ZIPCODE', 'Normalized Score']]"
   ]
  },
  {
   "cell_type": "code",
   "execution_count": 28,
   "metadata": {
    "collapsed": false
   },
   "outputs": [],
   "source": [
    "#Write to csv\n",
    "ZIPCODEStats.to_csv('ParkQualityZipcode.csv', sep=',')"
   ]
  },
  {
   "cell_type": "code",
   "execution_count": 30,
   "metadata": {
    "collapsed": false
   },
   "outputs": [
    {
     "data": {
      "text/html": [
       "<div style=\"max-height:1000px;max-width:1500px;overflow:auto;\">\n",
       "<table border=\"1\" class=\"dataframe\">\n",
       "  <thead>\n",
       "    <tr style=\"text-align: right;\">\n",
       "      <th></th>\n",
       "      <th>Unnamed: 0</th>\n",
       "      <th>ZIPCODE</th>\n",
       "      <th>Normalized Score</th>\n",
       "    </tr>\n",
       "  </thead>\n",
       "  <tbody>\n",
       "    <tr>\n",
       "      <th>0</th>\n",
       "      <td>0</td>\n",
       "      <td>10001</td>\n",
       "      <td>0.955859</td>\n",
       "    </tr>\n",
       "    <tr>\n",
       "      <th>1</th>\n",
       "      <td>1</td>\n",
       "      <td>10002</td>\n",
       "      <td>0.863230</td>\n",
       "    </tr>\n",
       "    <tr>\n",
       "      <th>2</th>\n",
       "      <td>2</td>\n",
       "      <td>10003</td>\n",
       "      <td>0.927281</td>\n",
       "    </tr>\n",
       "    <tr>\n",
       "      <th>3</th>\n",
       "      <td>3</td>\n",
       "      <td>10004</td>\n",
       "      <td>0.936243</td>\n",
       "    </tr>\n",
       "    <tr>\n",
       "      <th>4</th>\n",
       "      <td>4</td>\n",
       "      <td>10005</td>\n",
       "      <td>0.983889</td>\n",
       "    </tr>\n",
       "    <tr>\n",
       "      <th>5</th>\n",
       "      <td>5</td>\n",
       "      <td>10007</td>\n",
       "      <td>0.973775</td>\n",
       "    </tr>\n",
       "    <tr>\n",
       "      <th>6</th>\n",
       "      <td>6</td>\n",
       "      <td>10009</td>\n",
       "      <td>0.907813</td>\n",
       "    </tr>\n",
       "    <tr>\n",
       "      <th>7</th>\n",
       "      <td>7</td>\n",
       "      <td>10010</td>\n",
       "      <td>0.953302</td>\n",
       "    </tr>\n",
       "    <tr>\n",
       "      <th>8</th>\n",
       "      <td>8</td>\n",
       "      <td>10011</td>\n",
       "      <td>0.946098</td>\n",
       "    </tr>\n",
       "    <tr>\n",
       "      <th>9</th>\n",
       "      <td>9</td>\n",
       "      <td>10012</td>\n",
       "      <td>0.937661</td>\n",
       "    </tr>\n",
       "    <tr>\n",
       "      <th>10</th>\n",
       "      <td>10</td>\n",
       "      <td>10013</td>\n",
       "      <td>0.885107</td>\n",
       "    </tr>\n",
       "    <tr>\n",
       "      <th>11</th>\n",
       "      <td>11</td>\n",
       "      <td>10014</td>\n",
       "      <td>0.928510</td>\n",
       "    </tr>\n",
       "    <tr>\n",
       "      <th>12</th>\n",
       "      <td>12</td>\n",
       "      <td>10016</td>\n",
       "      <td>0.890716</td>\n",
       "    </tr>\n",
       "    <tr>\n",
       "      <th>13</th>\n",
       "      <td>13</td>\n",
       "      <td>10017</td>\n",
       "      <td>0.961454</td>\n",
       "    </tr>\n",
       "    <tr>\n",
       "      <th>14</th>\n",
       "      <td>14</td>\n",
       "      <td>10018</td>\n",
       "      <td>0.991700</td>\n",
       "    </tr>\n",
       "    <tr>\n",
       "      <th>15</th>\n",
       "      <td>15</td>\n",
       "      <td>10019</td>\n",
       "      <td>0.812148</td>\n",
       "    </tr>\n",
       "    <tr>\n",
       "      <th>16</th>\n",
       "      <td>16</td>\n",
       "      <td>10021</td>\n",
       "      <td>0.475413</td>\n",
       "    </tr>\n",
       "    <tr>\n",
       "      <th>17</th>\n",
       "      <td>17</td>\n",
       "      <td>10022</td>\n",
       "      <td>0.949918</td>\n",
       "    </tr>\n",
       "    <tr>\n",
       "      <th>18</th>\n",
       "      <td>18</td>\n",
       "      <td>10023</td>\n",
       "      <td>0.949390</td>\n",
       "    </tr>\n",
       "    <tr>\n",
       "      <th>19</th>\n",
       "      <td>19</td>\n",
       "      <td>10024</td>\n",
       "      <td>0.963331</td>\n",
       "    </tr>\n",
       "    <tr>\n",
       "      <th>20</th>\n",
       "      <td>20</td>\n",
       "      <td>10025</td>\n",
       "      <td>0.915245</td>\n",
       "    </tr>\n",
       "    <tr>\n",
       "      <th>21</th>\n",
       "      <td>21</td>\n",
       "      <td>10026</td>\n",
       "      <td>0.884832</td>\n",
       "    </tr>\n",
       "    <tr>\n",
       "      <th>22</th>\n",
       "      <td>22</td>\n",
       "      <td>10027</td>\n",
       "      <td>0.896110</td>\n",
       "    </tr>\n",
       "    <tr>\n",
       "      <th>23</th>\n",
       "      <td>23</td>\n",
       "      <td>10028</td>\n",
       "      <td>0.864273</td>\n",
       "    </tr>\n",
       "    <tr>\n",
       "      <th>24</th>\n",
       "      <td>24</td>\n",
       "      <td>10029</td>\n",
       "      <td>0.888763</td>\n",
       "    </tr>\n",
       "    <tr>\n",
       "      <th>25</th>\n",
       "      <td>25</td>\n",
       "      <td>10030</td>\n",
       "      <td>0.856646</td>\n",
       "    </tr>\n",
       "    <tr>\n",
       "      <th>26</th>\n",
       "      <td>26</td>\n",
       "      <td>10031</td>\n",
       "      <td>0.887526</td>\n",
       "    </tr>\n",
       "    <tr>\n",
       "      <th>27</th>\n",
       "      <td>27</td>\n",
       "      <td>10032</td>\n",
       "      <td>0.853440</td>\n",
       "    </tr>\n",
       "    <tr>\n",
       "      <th>28</th>\n",
       "      <td>28</td>\n",
       "      <td>10033</td>\n",
       "      <td>0.881425</td>\n",
       "    </tr>\n",
       "    <tr>\n",
       "      <th>29</th>\n",
       "      <td>29</td>\n",
       "      <td>10034</td>\n",
       "      <td>0.897625</td>\n",
       "    </tr>\n",
       "    <tr>\n",
       "      <th>...</th>\n",
       "      <td>...</td>\n",
       "      <td>...</td>\n",
       "      <td>...</td>\n",
       "    </tr>\n",
       "    <tr>\n",
       "      <th>141</th>\n",
       "      <td>141</td>\n",
       "      <td>11377</td>\n",
       "      <td>0.713459</td>\n",
       "    </tr>\n",
       "    <tr>\n",
       "      <th>142</th>\n",
       "      <td>142</td>\n",
       "      <td>11378</td>\n",
       "      <td>0.932781</td>\n",
       "    </tr>\n",
       "    <tr>\n",
       "      <th>143</th>\n",
       "      <td>143</td>\n",
       "      <td>11379</td>\n",
       "      <td>0.945583</td>\n",
       "    </tr>\n",
       "    <tr>\n",
       "      <th>144</th>\n",
       "      <td>144</td>\n",
       "      <td>11385</td>\n",
       "      <td>0.849834</td>\n",
       "    </tr>\n",
       "    <tr>\n",
       "      <th>145</th>\n",
       "      <td>145</td>\n",
       "      <td>11411</td>\n",
       "      <td>0.851322</td>\n",
       "    </tr>\n",
       "    <tr>\n",
       "      <th>146</th>\n",
       "      <td>146</td>\n",
       "      <td>11412</td>\n",
       "      <td>0.869117</td>\n",
       "    </tr>\n",
       "    <tr>\n",
       "      <th>147</th>\n",
       "      <td>147</td>\n",
       "      <td>11413</td>\n",
       "      <td>0.909441</td>\n",
       "    </tr>\n",
       "    <tr>\n",
       "      <th>148</th>\n",
       "      <td>148</td>\n",
       "      <td>11414</td>\n",
       "      <td>0.830697</td>\n",
       "    </tr>\n",
       "    <tr>\n",
       "      <th>149</th>\n",
       "      <td>149</td>\n",
       "      <td>11415</td>\n",
       "      <td>0.930998</td>\n",
       "    </tr>\n",
       "    <tr>\n",
       "      <th>150</th>\n",
       "      <td>150</td>\n",
       "      <td>11416</td>\n",
       "      <td>0.907634</td>\n",
       "    </tr>\n",
       "    <tr>\n",
       "      <th>151</th>\n",
       "      <td>151</td>\n",
       "      <td>11417</td>\n",
       "      <td>0.919439</td>\n",
       "    </tr>\n",
       "    <tr>\n",
       "      <th>152</th>\n",
       "      <td>152</td>\n",
       "      <td>11418</td>\n",
       "      <td>1.000000</td>\n",
       "    </tr>\n",
       "    <tr>\n",
       "      <th>153</th>\n",
       "      <td>153</td>\n",
       "      <td>11419</td>\n",
       "      <td>0.926899</td>\n",
       "    </tr>\n",
       "    <tr>\n",
       "      <th>154</th>\n",
       "      <td>154</td>\n",
       "      <td>11420</td>\n",
       "      <td>0.905456</td>\n",
       "    </tr>\n",
       "    <tr>\n",
       "      <th>155</th>\n",
       "      <td>155</td>\n",
       "      <td>11421</td>\n",
       "      <td>0.937292</td>\n",
       "    </tr>\n",
       "    <tr>\n",
       "      <th>156</th>\n",
       "      <td>156</td>\n",
       "      <td>11422</td>\n",
       "      <td>0.858807</td>\n",
       "    </tr>\n",
       "    <tr>\n",
       "      <th>157</th>\n",
       "      <td>157</td>\n",
       "      <td>11423</td>\n",
       "      <td>0.858866</td>\n",
       "    </tr>\n",
       "    <tr>\n",
       "      <th>158</th>\n",
       "      <td>158</td>\n",
       "      <td>11426</td>\n",
       "      <td>0.918629</td>\n",
       "    </tr>\n",
       "    <tr>\n",
       "      <th>159</th>\n",
       "      <td>159</td>\n",
       "      <td>11427</td>\n",
       "      <td>0.914629</td>\n",
       "    </tr>\n",
       "    <tr>\n",
       "      <th>160</th>\n",
       "      <td>160</td>\n",
       "      <td>11428</td>\n",
       "      <td>0.971429</td>\n",
       "    </tr>\n",
       "    <tr>\n",
       "      <th>161</th>\n",
       "      <td>161</td>\n",
       "      <td>11429</td>\n",
       "      <td>0.946575</td>\n",
       "    </tr>\n",
       "    <tr>\n",
       "      <th>162</th>\n",
       "      <td>162</td>\n",
       "      <td>11432</td>\n",
       "      <td>0.917612</td>\n",
       "    </tr>\n",
       "    <tr>\n",
       "      <th>163</th>\n",
       "      <td>163</td>\n",
       "      <td>11433</td>\n",
       "      <td>0.876464</td>\n",
       "    </tr>\n",
       "    <tr>\n",
       "      <th>164</th>\n",
       "      <td>164</td>\n",
       "      <td>11434</td>\n",
       "      <td>0.883834</td>\n",
       "    </tr>\n",
       "    <tr>\n",
       "      <th>165</th>\n",
       "      <td>165</td>\n",
       "      <td>11435</td>\n",
       "      <td>0.887949</td>\n",
       "    </tr>\n",
       "    <tr>\n",
       "      <th>166</th>\n",
       "      <td>166</td>\n",
       "      <td>11436</td>\n",
       "      <td>0.916091</td>\n",
       "    </tr>\n",
       "    <tr>\n",
       "      <th>167</th>\n",
       "      <td>167</td>\n",
       "      <td>11691</td>\n",
       "      <td>0.863416</td>\n",
       "    </tr>\n",
       "    <tr>\n",
       "      <th>168</th>\n",
       "      <td>168</td>\n",
       "      <td>11692</td>\n",
       "      <td>0.895587</td>\n",
       "    </tr>\n",
       "    <tr>\n",
       "      <th>169</th>\n",
       "      <td>169</td>\n",
       "      <td>11693</td>\n",
       "      <td>0.910768</td>\n",
       "    </tr>\n",
       "    <tr>\n",
       "      <th>170</th>\n",
       "      <td>170</td>\n",
       "      <td>11694</td>\n",
       "      <td>0.898923</td>\n",
       "    </tr>\n",
       "  </tbody>\n",
       "</table>\n",
       "<p>171 rows × 3 columns</p>\n",
       "</div>"
      ],
      "text/plain": [
       "     Unnamed: 0  ZIPCODE  Normalized Score\n",
       "0             0    10001          0.955859\n",
       "1             1    10002          0.863230\n",
       "2             2    10003          0.927281\n",
       "3             3    10004          0.936243\n",
       "4             4    10005          0.983889\n",
       "5             5    10007          0.973775\n",
       "6             6    10009          0.907813\n",
       "7             7    10010          0.953302\n",
       "8             8    10011          0.946098\n",
       "9             9    10012          0.937661\n",
       "10           10    10013          0.885107\n",
       "11           11    10014          0.928510\n",
       "12           12    10016          0.890716\n",
       "13           13    10017          0.961454\n",
       "14           14    10018          0.991700\n",
       "15           15    10019          0.812148\n",
       "16           16    10021          0.475413\n",
       "17           17    10022          0.949918\n",
       "18           18    10023          0.949390\n",
       "19           19    10024          0.963331\n",
       "20           20    10025          0.915245\n",
       "21           21    10026          0.884832\n",
       "22           22    10027          0.896110\n",
       "23           23    10028          0.864273\n",
       "24           24    10029          0.888763\n",
       "25           25    10030          0.856646\n",
       "26           26    10031          0.887526\n",
       "27           27    10032          0.853440\n",
       "28           28    10033          0.881425\n",
       "29           29    10034          0.897625\n",
       "..          ...      ...               ...\n",
       "141         141    11377          0.713459\n",
       "142         142    11378          0.932781\n",
       "143         143    11379          0.945583\n",
       "144         144    11385          0.849834\n",
       "145         145    11411          0.851322\n",
       "146         146    11412          0.869117\n",
       "147         147    11413          0.909441\n",
       "148         148    11414          0.830697\n",
       "149         149    11415          0.930998\n",
       "150         150    11416          0.907634\n",
       "151         151    11417          0.919439\n",
       "152         152    11418          1.000000\n",
       "153         153    11419          0.926899\n",
       "154         154    11420          0.905456\n",
       "155         155    11421          0.937292\n",
       "156         156    11422          0.858807\n",
       "157         157    11423          0.858866\n",
       "158         158    11426          0.918629\n",
       "159         159    11427          0.914629\n",
       "160         160    11428          0.971429\n",
       "161         161    11429          0.946575\n",
       "162         162    11432          0.917612\n",
       "163         163    11433          0.876464\n",
       "164         164    11434          0.883834\n",
       "165         165    11435          0.887949\n",
       "166         166    11436          0.916091\n",
       "167         167    11691          0.863416\n",
       "168         168    11692          0.895587\n",
       "169         169    11693          0.910768\n",
       "170         170    11694          0.898923\n",
       "\n",
       "[171 rows x 3 columns]"
      ]
     },
     "execution_count": 30,
     "metadata": {},
     "output_type": "execute_result"
    }
   ],
   "source": [
    "pd.read_csv('ParkQualityZipcode.csv')"
   ]
  },
  {
   "cell_type": "code",
   "execution_count": null,
   "metadata": {
    "collapsed": true
   },
   "outputs": [],
   "source": []
  }
 ],
 "metadata": {
  "kernelspec": {
   "display_name": "Python 2",
   "language": "python",
   "name": "python2"
  },
  "language_info": {
   "codemirror_mode": {
    "name": "ipython",
    "version": 2
   },
   "file_extension": ".py",
   "mimetype": "text/x-python",
   "name": "python",
   "nbconvert_exporter": "python",
   "pygments_lexer": "ipython2",
   "version": "2.7.10"
  }
 },
 "nbformat": 4,
 "nbformat_minor": 0
}
