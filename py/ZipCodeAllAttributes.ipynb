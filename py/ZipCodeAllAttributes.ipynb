{
 "cells": [
  {
   "cell_type": "code",
   "execution_count": 37,
   "metadata": {
    "collapsed": true
   },
   "outputs": [],
   "source": [
    "import pandas as pd\n",
    "import os"
   ]
  },
  {
   "cell_type": "code",
   "execution_count": 38,
   "metadata": {
    "collapsed": true
   },
   "outputs": [],
   "source": [
    "# -- Bring in the socioeconomic Data\n",
    "ZipcodesocioEconomicDataPath = os.path.join('../../shapeData/externalData/','ZipCodeExternalDataSummary.csv')\n",
    "ZipcodesocioEconomicData = pd.read_csv(ZipcodesocioEconomicDataPath)"
   ]
  },
  {
   "cell_type": "code",
   "execution_count": 39,
   "metadata": {
    "collapsed": false
   },
   "outputs": [],
   "source": [
    "# -- Bring in the market Value Data\n",
    "medianMarketValueZipCodePath=('../../shapeData/Tables/medianMarketValueZipCode.csv')\n",
    "medianMarketValueZipCode = pd.read_csv(medianMarketValueZipCodePath)\n",
    "medianMarketValueZipCode = medianMarketValueZipCode[['ZipCode','Market_Val']]"
   ]
  },
  {
   "cell_type": "code",
   "execution_count": 40,
   "metadata": {
    "collapsed": false
   },
   "outputs": [],
   "source": [
    "# -- Bring in the economic Data\n",
    "economicDataZipCodePath=('../../shapeData/externalData/zbp13totals.csv')\n",
    "economicDataZipCode = pd.read_csv(economicDataZipCodePath)"
   ]
  },
  {
   "cell_type": "code",
   "execution_count": 41,
   "metadata": {
    "collapsed": false
   },
   "outputs": [],
   "source": [
    "# -- Clean the economic Data and rename columns with better titles\n",
    "economicDataZipCode = economicDataZipCode[['zip','emp','ap','est']]\n",
    "economicDataZipCode = economicDataZipCode.rename(columns={'zip':'ZipCode','emp':'TotalMidMarchEmployees', 'ap':'TotalAnnualPayroll($1,000)', 'est':'TotalNumberofEstablishments'})"
   ]
  },
  {
   "cell_type": "code",
   "execution_count": 43,
   "metadata": {
    "collapsed": false
   },
   "outputs": [],
   "source": [
    "# -- Bring in Park Quality Data\n",
    "parkQualityZipCodePath=('../../shapeData/Tables/ParkQualityZipcode2014.csv')\n",
    "parkQualityZipCode = pd.read_csv(parkQualityZipCodePath)\n",
    "# -- Get rid of the duplicated index column\n",
    "del parkQualityZipCode['Unnamed: 0']"
   ]
  },
  {
   "cell_type": "code",
   "execution_count": 46,
   "metadata": {
    "collapsed": false
   },
   "outputs": [],
   "source": [
    "# -- Join the market value, socioeconomic, econoimic and park-qality tables\n",
    "ZipCodeMarketValueSocioeconomic = pd.merge(medianMarketValueZipCode, ZipcodesocioEconomicData, left_on='ZipCode', right_on= 'ZipCode5', how='left')\n",
    "ZipcodeExternalData = pd.merge(ZipCodeMarketValueSocioeconomic, economicDataZipCode, on= 'ZipCode', how='left')\n",
    "ZipCodeAllAttributes = pd.merge(parkQualityZipCode, ZipcodeExternalData, left_on='ZIPCODE', right_on = 'ZipCode', how='left')"
   ]
  },
  {
   "cell_type": "code",
   "execution_count": 48,
   "metadata": {
    "collapsed": false
   },
   "outputs": [],
   "source": [
    "# -- Write to csv\n",
    "ZipCodeAllAttributes.to_csv('../../shapeData/Tables/ZipCodeAllAttributes2014.csv', sep=',')"
   ]
  }
 ],
 "metadata": {
  "kernelspec": {
   "display_name": "Python 2",
   "language": "python",
   "name": "python2"
  },
  "language_info": {
   "codemirror_mode": {
    "name": "ipython",
    "version": 2
   },
   "file_extension": ".py",
   "mimetype": "text/x-python",
   "name": "python",
   "nbconvert_exporter": "python",
   "pygments_lexer": "ipython2",
   "version": "2.7.10"
  }
 },
 "nbformat": 4,
 "nbformat_minor": 0
}
