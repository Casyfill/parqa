{
 "cells": [
  {
   "cell_type": "code",
   "execution_count": 1,
   "metadata": {
    "collapsed": false
   },
   "outputs": [],
   "source": [
    "import pandas as pd\n",
    "import os"
   ]
  },
  {
   "cell_type": "code",
   "execution_count": 2,
   "metadata": {
    "collapsed": false
   },
   "outputs": [],
   "source": [
    "#Extract PLUTO Information for each Borough\n",
    "# -- Brooklyn\n",
    "brooklynPlutoPath = os.path.join('../../shapeData/externalData/nyc_pluto_14v2/','BK.csv')\n",
    "brooklynPLUTO = pd.read_csv(brooklynPlutoPath, low_memory=False)\n",
    "brooklynPLUTO[['BBL']] = brooklynPLUTO[['BBL']].astype(str)\n",
    "brooklynPLUTO = brooklynPLUTO[['Borough','Block','Lot','CT2010', 'CB2010','ZipCode','BBL', 'Tract2010']]"
   ]
  },
  {
   "cell_type": "code",
   "execution_count": 3,
   "metadata": {
    "collapsed": false
   },
   "outputs": [],
   "source": [
    "# -- Bronx\n",
    "bronxPlutoPath = os.path.join('../../shapeData/externalData/nyc_pluto_14v2/','BX.csv')\n",
    "bronxPLUTO = pd.read_csv(bronxPlutoPath, low_memory=False)\n",
    "bronxPLUTO[['BBL']] = bronxPLUTO[['BBL']].astype(str)\n",
    "bronxPLUTO = bronxPLUTO[['Borough','Block','Lot','CT2010', 'CB2010','ZipCode','BBL', 'Tract2010']]"
   ]
  },
  {
   "cell_type": "code",
   "execution_count": 4,
   "metadata": {
    "collapsed": true
   },
   "outputs": [],
   "source": [
    "# -- Manhattan\n",
    "manhattanPlutoPath = os.path.join('../../shapeData/externalData/nyc_pluto_14v2/','MN.csv')\n",
    "manhattanPLUTO = pd.read_csv(manhattanPlutoPath, low_memory=False)\n",
    "manhattanPLUTO[['BBL']] = manhattanPLUTO[['BBL']].astype(str)\n",
    "manhattanPLUTO = manhattanPLUTO[['Borough','Block','Lot','CT2010', 'CB2010','ZipCode','BBL', 'Tract2010']]"
   ]
  },
  {
   "cell_type": "code",
   "execution_count": 5,
   "metadata": {
    "collapsed": true
   },
   "outputs": [],
   "source": [
    "# -- Queens\n",
    "queensPlutoPath = os.path.join('../../shapeData/externalData/nyc_pluto_14v2/','QN.csv')\n",
    "queensPLUTO = pd.read_csv(queensPlutoPath, low_memory=False)\n",
    "queensPLUTO[['BBL']] = queensPLUTO[['BBL']].astype(str)\n",
    "queensPLUTO = queensPLUTO[['Borough','Block','Lot','CT2010', 'CB2010','ZipCode','BBL', 'Tract2010']]"
   ]
  },
  {
   "cell_type": "code",
   "execution_count": 6,
   "metadata": {
    "collapsed": false
   },
   "outputs": [],
   "source": [
    "# -- Staten Island\n",
    "statenPlutoPath = os.path.join('../../shapeData/externalData/nyc_pluto_14v2/','SI.csv')\n",
    "statenPLUTO = pd.read_csv(statenPlutoPath, low_memory=False)\n",
    "statenPLUTO[['BBL']] = statenPLUTO[['BBL']].astype(str)\n",
    "statenPLUTO = statenPLUTO[['Borough','Block','Lot','CT2010', 'CB2010','ZipCode','BBL', 'Tract2010']]"
   ]
  },
  {
   "cell_type": "code",
   "execution_count": 7,
   "metadata": {
    "collapsed": false
   },
   "outputs": [],
   "source": [
    "# Create a dataframe for all Boroughs\n",
    "nycPluto = pd.concat([brooklynPLUTO,bronxPLUTO,manhattanPLUTO,queensPLUTO,statenPLUTO])"
   ]
  },
  {
   "cell_type": "code",
   "execution_count": 8,
   "metadata": {
    "collapsed": false
   },
   "outputs": [],
   "source": [
    "# Etract Finance Data for each Borough\n",
    "# -- Brooklyn\n",
    "brooklynFinancePath = os.path.join('../../marketValueData','Brooklyn.csv')\n",
    "brooklynFinance = pd.read_csv(brooklynFinancePath, low_memory=False)\n",
    "brooklynFinance.BBLE = brooklynFinance.BBLE.apply(lambda x: x[:10])\n",
    "brooklynFinance = brooklynFinance[['BBLE','Market_Value']]\n",
    "brooklynFinance.columns = ['BBLE','Market_Val']"
   ]
  },
  {
   "cell_type": "code",
   "execution_count": 9,
   "metadata": {
    "collapsed": false
   },
   "outputs": [],
   "source": [
    "# -- Bronx\n",
    "bronxFinancePath = os.path.join('../../marketValueData','Bronx.csv')\n",
    "bronxFinance = pd.read_csv(bronxFinancePath, low_memory=False)\n",
    "bronxFinance.BBLE = bronxFinance.BBLE.apply(lambda x: x[:10])\n",
    "bronxFinance = bronxFinance[['BBLE','Market_Val']]"
   ]
  },
  {
   "cell_type": "code",
   "execution_count": 10,
   "metadata": {
    "collapsed": false
   },
   "outputs": [],
   "source": [
    "# -- Manattan\n",
    "manhattanFinancePath = os.path.join('../../marketValueData','Manhattan.csv')\n",
    "manhattanFinance = pd.read_csv(manhattanFinancePath, low_memory=False)\n",
    "manhattanFinance.BBLE = manhattanFinance.BBLE.apply(lambda x: x[:10])\n",
    "manhattanFinance = manhattanFinance[['BBLE','Market_Val']]"
   ]
  },
  {
   "cell_type": "code",
   "execution_count": 11,
   "metadata": {
    "collapsed": false
   },
   "outputs": [],
   "source": [
    "# -- Queens\n",
    "queensFinancePath = os.path.join('../../marketValueData','Queens.csv')\n",
    "queensFinance = pd.read_csv(queensFinancePath, low_memory=False)\n",
    "queensFinance.BBLE = queensFinance.BBLE.apply(lambda x: x[:10])\n",
    "queensFinance = queensFinance[['BBLE','Market_Val']]"
   ]
  },
  {
   "cell_type": "code",
   "execution_count": 12,
   "metadata": {
    "collapsed": false
   },
   "outputs": [],
   "source": [
    "# -- Staten Island\n",
    "statenFinancePath = os.path.join('../../marketValueData','Staten.csv')\n",
    "statenFinance = pd.read_csv(statenFinancePath, low_memory=False)\n",
    "statenFinance.BBLE = statenFinance.BBLE.apply(lambda x: x[:10])\n",
    "statenFinance = statenFinance[['BBLE','Market_Val']]"
   ]
  },
  {
   "cell_type": "code",
   "execution_count": 13,
   "metadata": {
    "collapsed": false
   },
   "outputs": [],
   "source": [
    "# Create a dataframe for all Boroughs\n",
    "nycFinance = pd.concat([brooklynFinance,bronxFinance,manhattanFinance,queensFinance,statenFinance])"
   ]
  },
  {
   "cell_type": "code",
   "execution_count": 14,
   "metadata": {
    "collapsed": false
   },
   "outputs": [],
   "source": [
    "# Groupby BBL since those are BBLE records; we took the sum of the marke value for BBLEs that share the same parent BBL\n",
    "byBBLE = nycFinance.groupby('BBLE')\n",
    "nycFinanceFinal = byBBLE.sum().reset_index()[['BBLE','Market_Val']]"
   ]
  },
  {
   "cell_type": "code",
   "execution_count": 15,
   "metadata": {
    "collapsed": false
   },
   "outputs": [],
   "source": [
    "# Rename the BBLE after grouping to BBL\n",
    "nycFinanceFinal.rename(columns={'BBLE':'BBL'}, inplace=True)"
   ]
  },
  {
   "cell_type": "code",
   "execution_count": 16,
   "metadata": {
    "collapsed": false
   },
   "outputs": [],
   "source": [
    "# Create the master DataFrame for median market value\n",
    "marketValueBBL = pd.merge(nycFinanceFinal, nycPluto, on='BBL', how='left')"
   ]
  },
  {
   "cell_type": "code",
   "execution_count": 17,
   "metadata": {
    "collapsed": false
   },
   "outputs": [],
   "source": [
    "# Create The Zipcode Dataframe \n",
    "ByZipCode = marketValueBBL.groupby('ZipCode')\n",
    "medianMarketValueZipCode = ByZipCode.median().reset_index()[['ZipCode','Market_Val']]"
   ]
  },
  {
   "cell_type": "code",
   "execution_count": 18,
   "metadata": {
    "collapsed": false
   },
   "outputs": [],
   "source": [
    "# Create 1 siz-digit cansustract code to create the mapping code for census Tract\n",
    "marketValueBBL['Tract2010'] = marketValueBBL.Tract2010*100\n",
    "marketValueBBL[['Tract2010']] = marketValueBBL[['Tract2010']].astype(str)\n",
    "\n",
    "# When I converted to string it puts a decimal, This is to remove th edecimal point and what's after it\n",
    "def trim_fraction(text):\n",
    "    if '.0' in text:\n",
    "        return text[:text.rfind('.0')]\n",
    "    return text\n",
    "marketValueBBL.Tract2010=marketValueBBL.Tract2010.apply(trim_fraction)"
   ]
  },
  {
   "cell_type": "code",
   "execution_count": 19,
   "metadata": {
    "collapsed": false
   },
   "outputs": [],
   "source": [
    "# change letter to values to create mapping code\n",
    "marketValueBBL.loc[marketValueBBL['Borough'] == 'BX', ['Borough']] = '005'\n",
    "marketValueBBL.loc[marketValueBBL['Borough'] == 'BR', ['Borough']] = '047'\n",
    "marketValueBBL.loc[marketValueBBL['Borough'] == 'MN', ['Borough']] = '061'\n",
    "marketValueBBL.loc[marketValueBBL['Borough'] == 'QN', ['Borough']] = '081'\n",
    "marketValueBBL.loc[marketValueBBL['Borough'] == 'SI', ['Borough']] = '085'"
   ]
  },
  {
   "cell_type": "code",
   "execution_count": 20,
   "metadata": {
    "collapsed": false
   },
   "outputs": [],
   "source": [
    "# Insert the state index for the mapping code\n",
    "marketValueBBL['StateFIP'] = '36'\n",
    "marketValueBBL['CensusTract'] = marketValueBBL['StateFIP'].astype(object) + marketValueBBL['Borough'].astype(object) + marketValueBBL['Tract2010'].astype(object)"
   ]
  },
  {
   "cell_type": "code",
   "execution_count": 21,
   "metadata": {
    "collapsed": true
   },
   "outputs": [],
   "source": [
    "# Create the census tract dataframe\n",
    "ByCensusTract = marketValueBBL.groupby('CensusTract')\n",
    "medianMarketValueCensusTract = ByCensusTract.median().reset_index()[['CensusTract','Market_Val']]"
   ]
  },
  {
   "cell_type": "code",
   "execution_count": 22,
   "metadata": {
    "collapsed": true
   },
   "outputs": [],
   "source": [
    "#Write to csv\n",
    "medianMarketValueZipCode.to_csv('../../shapeData/Tables/medianMarketValueZipCode.csv', sep=',')\n",
    "medianMarketValueCensusTract.to_csv('../../shapeData/Tables/medianMarketValueCensusTract.csv', sep=',')"
   ]
  }
 ],
 "metadata": {
  "kernelspec": {
   "display_name": "Python 2",
   "language": "python",
   "name": "python2"
  },
  "language_info": {
   "codemirror_mode": {
    "name": "ipython",
    "version": 2
   },
   "file_extension": ".py",
   "mimetype": "text/x-python",
   "name": "python",
   "nbconvert_exporter": "python",
   "pygments_lexer": "ipython2",
   "version": "2.7.10"
  }
 },
 "nbformat": 4,
 "nbformat_minor": 0
}
