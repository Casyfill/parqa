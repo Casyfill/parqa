{
 "cells": [
  {
   "cell_type": "code",
   "execution_count": 105,
   "metadata": {
    "collapsed": true
   },
   "outputs": [],
   "source": [
    "import pandas as pd\n",
    "import os\n",
    "from datetime import datetime"
   ]
  },
  {
   "cell_type": "code",
   "execution_count": 106,
   "metadata": {
    "collapsed": true
   },
   "outputs": [],
   "source": [
    "# -- years being used for evaluation\n",
    "Years = ['2014,2015,2013&2014&2015']\n",
    "\n",
    "# -- spatial key being used for calculation\n",
    "SpatialKey = 'ZIPCODE'\n",
    "\n",
    "# -- use Fiscal or Calendar year\n",
    "UseFiscalYear = False\n",
    "if UseFiscalYear == True:\n",
    "    YearType = 'FiscalYr'\n",
    "else:\n",
    "    YearType = 'CalendarYr'\n",
    "# -- input path\n",
    "ParkDataInputPath = '../../shapeData/Tables/ParkQualityScores/'\n",
    "\n",
    "# -- output path\n",
    "WriteOutputPath = '../../shapeData/Tables/AllAttributes/'"
   ]
  },
  {
   "cell_type": "code",
   "execution_count": 107,
   "metadata": {
    "collapsed": false
   },
   "outputs": [],
   "source": [
    "# -- Bring In external Data\n",
    "if SpatialKey == 'ZIPCODE':\n",
    "    # -- Set Date\n",
    "    Date = '07-13-2015'\n",
    "    # -- Input Path\n",
    "    DataInputPath = '../../shapeData/Tables/ZipcodeExternalData/'\n",
    "    # -- Bring in the socioeconomic Data\n",
    "    ZipcodesocioEconomicData = pd.read_csv(DataInputPath+'ZipCodeExternalDataSummary.csv')\n",
    "    # -- Bring in the market Value Data\n",
    "    medianMarketValueZipCode = pd.read_csv(DataInputPath+'medianMarketValueZipCode.csv')\n",
    "    medianMarketValueZipCode = medianMarketValueZipCode[['ZipCode','Market_Val']]\n",
    "    # -- Bring in the economic Data & clean\n",
    "    economicDataZipCode = pd.read_csv(DataInputPath+'zbp13totals.csv')\n",
    "    economicDataZipCode = economicDataZipCode[['zip','emp','ap','est']]\n",
    "    economicDataZipCode = economicDataZipCode.rename(columns={'zip':'ZipCode','emp':'TotalMidMarchEmployees', 'ap':'TotalAnnualPayroll($1,000)', 'est':'TotalNumberofEstablishments'})\n",
    "    # -- Mereg All data\n",
    "    ZipCodeMarketValueSocioeconomic = pd.merge(ZipcodesocioEconomicData, medianMarketValueZipCode, right_on='ZipCode', left_on= 'ZipCode5', how='left')\n",
    "    AllExternalData = pd.merge(ZipCodeMarketValueSocioeconomic, economicDataZipCode, on= 'ZipCode', how='left')\n",
    "    AllExternalData['ZIPCODE']=AllExternalData['ZipCode5']\n",
    "else:\n",
    "    # -- Set Date\n",
    "    Date = '07-14-2015'\n",
    "    # -- Input Path\n",
    "    DataInputPath = '../../shapeData/Tables/CensusTractExternalData/'\n",
    "    # -- Bring in the socioeconomic Data\n",
    "    censustractsocioEconomicData = pd.read_csv(DataInputPath+'CensusTractExternalDataSummary.csv')\n",
    "    censustractsocioEconomicData['GEOID'] = censustractsocioEconomicData['GEOID'].astype(str)\n",
    "    # -- Bring in the market Value Data\n",
    "    medianMarketValueCensusTract = pd.read_csv(DataInputPath+'medianMarketValueCensusTract.csv')\n",
    "    medianMarketValueCensusTract = medianMarketValueCensusTract[['CensusTract','Market_Val']]\n",
    "    # -- Bring in the employess Data \n",
    "    employeeCensusTract = pd.read_csv(DataInputPath+'WACemployeesCensusTract2012.csv')\n",
    "    employeeCensusTract = employeeCensusTract[['GEOID','NumberOfEmployeesWAC']]\n",
    "    employeeCensusTract['GEOID'] = employeeCensusTract['GEOID'].astype(str)\n",
    "    # -- Merge All data\n",
    "    CensusTractMarketValueSocioeconomic = pd.merge( medianMarketValueCensusTract,censustractsocioEconomicData, left_on='CensusTract', right_on= 'GEOID', how='left')\n",
    "    AllExternalData = pd.merge( CensusTractMarketValueSocioeconomic,employeeCensusTract, on = 'GEOID', how = 'left')"
   ]
  },
  {
   "cell_type": "code",
   "execution_count": 108,
   "metadata": {
    "collapsed": false
   },
   "outputs": [],
   "source": [
    "def ReadScores(Year, Date):\n",
    "# -- Bring in Park Quality Data and Merge\n",
    "    if UseFiscalYear:\n",
    "        parkQuality = pd.read_csv(InputPath + 'ParkQuality_%s_%s_%s_%s.csv' % (SpatialKey, Year, YearType, Date), index_col=0)\n",
    "        if SpatialKey == 'GEOID':\n",
    "            parkQuality['GEOID'] = parkQuality['GEOID'].astype(str)\n",
    "    else:\n",
    "        parkQuality = pd.read_csv(InputPath + 'ParkQuality_%s_%s_%s_%s.csv' % (SpatialKey, Year, YearType, Date), index_col=0)\n",
    "        if SpatialKey == 'GEOID':\n",
    "            parkQuality['GEOID'] = parkQuality['GEOID'].astype(str)\n",
    "\n",
    "    return pd.merge(AllExternalData, parkQuality, on= SpatialKey, how='left')"
   ]
  },
  {
   "cell_type": "code",
   "execution_count": 109,
   "metadata": {
    "collapsed": false
   },
   "outputs": [],
   "source": [
    "def WriteScores(df, Year):\n",
    "    # -- Write to csv\n",
    "    now = datetime.now()\n",
    "    if UseFiscalYear:\n",
    "        YearType = 'FiscalYr'\n",
    "    else:\n",
    "        YearType = 'CalendarYr'\n",
    "    df.to_csv(WriteOutputPath + 'AllAttributes_%s_%s_%s_%s.csv' % ( SpatialKey, Year.replace(',','&'), YearType, now.strftime('%m-%d-%Y')), sep=',')"
   ]
  },
  {
   "cell_type": "code",
   "execution_count": 110,
   "metadata": {
    "collapsed": false
   },
   "outputs": [],
   "source": [
    "for Year in Years:\n",
    "    AllAttributes = ReadScores(Year, Date)\n",
    "    WriteScores(AllAttributes, Year)"
   ]
  },
  {
   "cell_type": "code",
   "execution_count": null,
   "metadata": {
    "collapsed": true
   },
   "outputs": [],
   "source": [
    "AllAttributes"
   ]
  }
 ],
 "metadata": {
  "kernelspec": {
   "display_name": "Python 2",
   "language": "python",
   "name": "python2"
  },
  "language_info": {
   "codemirror_mode": {
    "name": "ipython",
    "version": 2
   },
   "file_extension": ".py",
   "mimetype": "text/x-python",
   "name": "python",
   "nbconvert_exporter": "python",
   "pygments_lexer": "ipython2",
   "version": "2.7.10"
  }
 },
 "nbformat": 4,
 "nbformat_minor": 0
}
