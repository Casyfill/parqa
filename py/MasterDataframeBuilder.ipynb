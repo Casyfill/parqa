{
 "cells": [
  {
   "cell_type": "code",
   "execution_count": null,
   "metadata": {
    "collapsed": true
   },
   "outputs": [],
   "source": [
    "import pandas as pd\n",
    "import numpy as np\n",
    "import os\n",
    "import geopandas as gp"
   ]
  },
  {
   "cell_type": "code",
   "execution_count": null,
   "metadata": {
    "collapsed": false
   },
   "outputs": [],
   "source": [
    "# -- read the inspection files\n",
    "try:\n",
    "    inspection\n",
    "except:\n",
    "    print(\"reading PIP_InspectionMain.xlsx...\")\n",
    "    in_path = os.path.join('../../data','PIP')\n",
    "    in_name = os.path.join(in_path,'PIP_InspectionMain.xlsx')\n",
    "    inspection  = pd.read_excel(in_name)"
   ]
  },
  {
   "cell_type": "code",
   "execution_count": null,
   "metadata": {
    "collapsed": false
   },
   "outputs": [],
   "source": [
    "# -- get all the ratings information\n",
    "try:\n",
    "    rating\n",
    "except:\n",
    "    print(\"reading PIP_ALLSITES.xlsx...\")\n",
    "    as_path  = os.path.join('../../data','PIP')\n",
    "    as_name  = os.path.join(as_path,'PIP_FeatureRatings.xlsx')\n",
    "    rating = pd.read_excel(as_name)\n",
    "    \n",
    "    # -- Sustitute numerical values to ratings\n",
    "    rating.loc[rating['Rating'] == 'a', ['Rating']] = 1\n",
    "    rating.loc[rating['Rating'] == 'A', ['Rating']] = 1\n",
    "    rating.loc[rating['Rating'] == 'N', ['Rating']] = np.nan\n",
    "    rating.loc[rating['Rating'] == 'U', ['Rating']] = 0\n",
    "    rating.loc[rating['Rating'] == 'U/S', ['Rating']] = -3\n",
    "    \n",
    "    # -- Change Rating type to float for calculations\n",
    "    rating[['Rating']] = rating[['Rating']].astype(float)"
   ]
  },
  {
   "cell_type": "code",
   "execution_count": null,
   "metadata": {
    "collapsed": false
   },
   "outputs": [],
   "source": [
    "# -- get all the sites information\n",
    "try:\n",
    "    sites\n",
    "except:\n",
    "    print(\"reading PIP_ALLSITES.xlsx...\")\n",
    "    as_path  = os.path.join('../../data','PIP')\n",
    "    as_name  = os.path.join(as_path,'PIP_ALLSITES.xlsx')\n",
    "    sites = pd.read_excel(as_name)"
   ]
  },
  {
   "cell_type": "code",
   "execution_count": null,
   "metadata": {
    "collapsed": false
   },
   "outputs": [],
   "source": [
    "# -- read in the property files\n",
    "try:\n",
    "    prop\n",
    "except:\n",
    "    print(\"reading Property.shp...\")\n",
    "    pr_path = os.path.join('../../shapeData','CUSPExportShps')\n",
    "    pr_name = os.path.join(pr_path,'Property.shp')\n",
    "    prop    = gp.GeoDataFrame.from_file(pr_name)"
   ]
  },
  {
   "cell_type": "code",
   "execution_count": null,
   "metadata": {
    "collapsed": false
   },
   "outputs": [],
   "source": [
    "# -- read in the zipcode file\n",
    "\n",
    "try:\n",
    "    zipcodes\n",
    "except:\n",
    "    print(\"reading NYC_Parks_AllSites.xlsx.. Zipcode data...\")\n",
    "    zp_path = os.path.join('../../shapeData','Tables')\n",
    "    zp_name = os.path.join(zp_path,'NYC_Parks_AllSites_Zip.xlsx')\n",
    "    zipcodes    = pd.read_excel(zp_name)"
   ]
  },
  {
   "cell_type": "code",
   "execution_count": null,
   "metadata": {
    "collapsed": false
   },
   "outputs": [],
   "source": []
  },
  {
   "cell_type": "code",
   "execution_count": null,
   "metadata": {
    "collapsed": false
   },
   "outputs": [],
   "source": [
    "# -- Create pivot table of inspections.\n",
    "pivotInspect = rating.pivot(index='Inspection ID', columns = 'Feature', values = 'Rating')"
   ]
  },
  {
   "cell_type": "code",
   "execution_count": null,
   "metadata": {
    "collapsed": false
   },
   "outputs": [],
   "source": [
    "# -- Use if we are clearing entire Category of features based on U/S\n",
    "'''\n",
    "Categories = { \\\n",
    "    'Cleanliness': [u'Glass', u'Graffiti', u'Ice', u'Litter', u'Weeds'], \\\n",
    "    'Structural' : [u'Benches', u'Fences', u'Paved Surfaces', u'Play Equipment', u'Safety Surface', u'Sidewalks'], \\\n",
    "    'Landscape' : [u'Athletic Fields', u'Horticultural Areas', u'Trails', u'Lawns', u'Trees', u'Water Bodies']}\n",
    "\n",
    "def redefine(row):\n",
    "    if 'U/S' in row.values:\n",
    "        mask = row.notnull()\n",
    "        row[mask] = 0\n",
    "    return row\n",
    "\n",
    "for Category, CatFeatures in Categories.iteritems():\n",
    "    pivotInspect.loc[:, CatFeatures] = pivotInspect[CatFeatures].apply(redefine, axis=1)\n",
    "    pivotInspect[CatFeatures] = pivotInspect[CatFeatures].astype(float)\n",
    "'''"
   ]
  },
  {
   "cell_type": "code",
   "execution_count": null,
   "metadata": {
    "collapsed": false
   },
   "outputs": [],
   "source": [
    "# -- create the base ID column  MAY HAVE TO BE TWEAKED\n",
    "inspection['PID_base'] = [i.split('-')[0].replace('Z','') \n",
    "                      for i in inspection['Prop ID']]"
   ]
  },
  {
   "cell_type": "code",
   "execution_count": null,
   "metadata": {
    "collapsed": true
   },
   "outputs": [],
   "source": [
    "# -- Remove Greenstreets from sites\n",
    "sites = sites[sites['Category'] != 'Greenstreet']\n",
    "\n",
    "# -- There are 3 duplicate sites in site file\n",
    "#print sites[sites.duplicated('Prop ID')]\n",
    "\n",
    "# -- Remove duplicates\n",
    "sites = sites.drop_duplicates(subset='Prop ID')"
   ]
  },
  {
   "cell_type": "code",
   "execution_count": null,
   "metadata": {
    "collapsed": true
   },
   "outputs": [],
   "source": [
    "# -- Merge inspection report with sites [Greenstreets are removed from sites]\n",
    "finalDF = pd.merge(sites, inspection, on = 'Prop ID', how = 'left')"
   ]
  },
  {
   "cell_type": "code",
   "execution_count": null,
   "metadata": {
    "collapsed": false
   },
   "outputs": [],
   "source": [
    "# -- Drop sites that have no inspections\n",
    "finalDF = finalDF[finalDF['Inspection ID'].notnull()]"
   ]
  },
  {
   "cell_type": "code",
   "execution_count": null,
   "metadata": {
    "collapsed": false
   },
   "outputs": [],
   "source": [
    "# -- Merge frame with pivot table of inspections on Inspection ID - Drops Greenstreet Inspections from pivot\n",
    "finalDF = pd.merge(finalDF, pivotInspect, left_on='Inspection ID', right_index = True, how='left')"
   ]
  },
  {
   "cell_type": "code",
   "execution_count": null,
   "metadata": {
    "collapsed": false
   },
   "outputs": [],
   "source": [
    "##### -- Merge the inspection and properties information\n",
    "finalDF = pd.merge(finalDF, prop, 'left', left_on='PID_base', \n",
    "                  right_on='GISPROPNUM')\n",
    "\n",
    "# -- Drop ZIPCODE attribute gained from the prop file\n",
    "finalDF.drop('ZIPCODE', axis=1, inplace=True)"
   ]
  },
  {
   "cell_type": "code",
   "execution_count": null,
   "metadata": {
    "collapsed": false,
    "scrolled": true
   },
   "outputs": [],
   "source": [
    "# -- Merge zipcode attribute\n",
    "finalDF = pd.merge(finalDF, zipcodes, left_on='PropNum', right_on='GISPROPNUM', how='left', suffixes=('', '_Zip'))\n",
    "\n",
    "# -- Drop second 'GISPROPNUM_Zip'\n",
    "finalDF.drop('GISPROPNUM_Zip', axis=1, inplace=True)\n",
    "\n",
    "# -- Test to print with sites are dropped by nulled Zip Info\n",
    "'''\n",
    "fails = finalDF[finalDF['ZIPCODE'].isnull()][['PropNum', 'Site Name', 'TypeCategory']]\n",
    "failgroup = fails.groupby('PropNum')\n",
    "print failgroup.first()\n",
    "'''"
   ]
  },
  {
   "cell_type": "code",
   "execution_count": null,
   "metadata": {
    "collapsed": true
   },
   "outputs": [],
   "source": [
    "# -- check if there are inspected parks that aren't in allsites\n",
    "check_ALLSITES = False\n",
    "if check_ALLSITES:\n",
    "    print(\"checking allsites file...\")\n",
    "    for ii,pid in enumerate(inspection['Prop ID']):\n",
    "        flag = True\n",
    "        for asid in sites['Prop ID']:\n",
    "            if pid==asid:\n",
    "                flag = False\n",
    "                break\n",
    "        if flag:\n",
    "            print(\"couldn't find {0} : {1}\".format(ii,pid))"
   ]
  },
  {
   "cell_type": "code",
   "execution_count": null,
   "metadata": {
    "collapsed": false
   },
   "outputs": [],
   "source": [
    "# -- check features file\n",
    "check_FEATRAT = False\n",
    "if check_FEATRAT:\n",
    "    for ii,iid in enumerate(inspection['Inspection ID']):\n",
    "        if iid not in pivotInspect.index:\n",
    "            print(\"couldn't find {0} : Inspection ID: {1}\".format(ii,iid))"
   ]
  },
  {
   "cell_type": "code",
   "execution_count": null,
   "metadata": {
    "collapsed": false
   },
   "outputs": [],
   "source": [
    "# -- check properties\n",
    "check_PROP = False\n",
    "if check_PROP:\n",
    "    print(\"checking properties file...\")\n",
    "    pid_bad = []\n",
    "    pid_bad_ii = []\n",
    "    for ii,pid in enumerate(inspection['PID_base']):\n",
    "        flag = True\n",
    "        for gpn in prop.GISPROPNUM:\n",
    "            if pid==gpn:\n",
    "                flag = False\n",
    "                break\n",
    "        if flag:\n",
    "            if pid not in pid_bad:\n",
    "                pid_bad_ii.append(ii)\n",
    "                pid_bad.append(pid)\n",
    "            print(\"couldn't find {0} : {1}\".format(ii,pid))\n",
    "\n",
    "    for ii in range(len(pid_bad_ii)):\n",
    "        subcat = sites.iloc[sites[sites['Prop ID'] == \\\n",
    "                                inspection.iloc[pid_bad_ii[ii]]['Prop ID']] \\\n",
    "                                .index[0]]['Sub-Category']\n",
    "        print(\"{0:8} : {1}\" \\\n",
    "                  .format(inspection.iloc[pid_bad_ii[ii]]['Prop ID'],subcat))"
   ]
  },
  {
   "cell_type": "code",
   "execution_count": null,
   "metadata": {
    "collapsed": false
   },
   "outputs": [],
   "source": [
    "# -- export Master file\n",
    "out_path = os.path.join('../../shapeData/','Dataframes')\n",
    "out_filename = os.path.join(out_path, 'All_Inspections.csv')\n",
    "finalDF.to_csv(out_filename, sep='\\t', encoding='utf-8')"
   ]
  },
  {
   "cell_type": "code",
   "execution_count": null,
   "metadata": {
    "collapsed": false
   },
   "outputs": [],
   "source": [
    "# -- export Year files\n",
    "out_year_path = os.path.join('../../shapeData/','Dataframes')\n",
    "inspecYears = sorted(set(map(lambda x: x.year, finalDF['Date'])))\n",
    "\n",
    "for year in inspecYears:\n",
    "    yearDF = finalDF[finalDF['Date'].map(lambda x: x.year) == year].reset_index(drop=True)\n",
    "    out_year_filename = os.path.join(out_year_path, str(year) + '_Inspections.csv')\n",
    "    yearDF.to_csv(out_year_filename, sep='\\t', encoding='utf-8')"
   ]
  }
 ],
 "metadata": {
  "kernelspec": {
   "display_name": "Python 2",
   "language": "python",
   "name": "python2"
  },
  "language_info": {
   "codemirror_mode": {
    "name": "ipython",
    "version": 2
   },
   "file_extension": ".py",
   "mimetype": "text/x-python",
   "name": "python",
   "nbconvert_exporter": "python",
   "pygments_lexer": "ipython2",
   "version": "2.7.10"
  }
 },
 "nbformat": 4,
 "nbformat_minor": 0
}
