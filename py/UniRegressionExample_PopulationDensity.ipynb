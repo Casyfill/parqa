{
 "cells": [
  {
   "cell_type": "code",
   "execution_count": 116,
   "metadata": {
    "collapsed": true
   },
   "outputs": [],
   "source": [
    "from numpy import loadtxt, zeros, ones, array, linspace, logspace\n",
    "from pylab import scatter, show, title, xlabel, ylabel, plot, contour\n",
    "import matplotlib.pyplot as plt\n",
    "import numpy as np\n",
    "import pandas as pd\n",
    "from sklearn import datasets, linear_model"
   ]
  },
  {
   "cell_type": "code",
   "execution_count": 117,
   "metadata": {
    "collapsed": false
   },
   "outputs": [],
   "source": [
    "def get_data(file_name):\n",
    "    data = pd.read_csv(file_name)\n",
    "    data = data.dropna()\n",
    "    X_parameter = []\n",
    "    Y_parameter = []\n",
    "    for MedianIncome, normalized_score in zip(data['MedianhouseholdIncome'],data['Amenities & Area Normalized Score']):\n",
    "        X_parameter.append([float(MedianIncome)])\n",
    "        Y_parameter.append([float(normalized_score)])\n",
    "    return X_parameter, Y_parameter"
   ]
  },
  {
   "cell_type": "code",
   "execution_count": 118,
   "metadata": {
    "collapsed": true
   },
   "outputs": [],
   "source": [
    "# Function for fitting data to linear model\n",
    "def linear_model_main(X_parameters, Y_parameters, predict_value):\n",
    "    #Create linear regression object\n",
    "    regr = linear_model.LinearRegression()\n",
    "    regr.fit(X_parameters, Y_parameters)\n",
    "    predict_outcome = regr.predict(predict_value)\n",
    "    predictions ={}\n",
    "    predictions['intercept'] = regr.intercept_\n",
    "    predictions['coefficient'] = regr.coef_\n",
    "    predictions['predicted_value'] = predict_outcome\n",
    "    return predictions"
   ]
  },
  {
   "cell_type": "code",
   "execution_count": 119,
   "metadata": {
    "collapsed": false
   },
   "outputs": [],
   "source": [
    "X, Y = get_data('../../shapeData/Tables/AllAttributes/AllAttributes_ZIPCODE_2013&2014&2015_FiscalYr_07-15-2015.csv')"
   ]
  },
  {
   "cell_type": "code",
   "execution_count": 120,
   "metadata": {
    "collapsed": true
   },
   "outputs": [],
   "source": [
    "def show_linear_line(X_parameters, Y_parameters):\n",
    "    #Create linear regression object\n",
    "    regr = linear_model.LinearRegression()\n",
    "    regr.fit(X_parameters, Y_parameters)\n",
    "    R2 = regr.score(X_parameters, Y_parameters, sample_weight=None)\n",
    "    plt.scatter(X_parameters,Y_parameters, color='blue')\n",
    "    plt.plot(X_parameters,regr.predict(X_parameters), color='red', linewidth=4)\n",
    "    plt.ylabel('AA Score')\n",
    "    plt.xlabel('MedianIncome' + '<R^2 = ' + str(R2) + '>')\n",
    "    plt.title('2013-2015 AA Score vs MedianIncome Zipcode')\n",
    "    plt.savefig('../../shapeData/Poster_Visualizations/2013-2015_MedianIncome_Zipcode')\n",
    "    #plt.show()"
   ]
  },
  {
   "cell_type": "code",
   "execution_count": 121,
   "metadata": {
    "collapsed": false
   },
   "outputs": [],
   "source": [
    "show_linear_line(X,Y)"
   ]
  },
  {
   "cell_type": "code",
   "execution_count": null,
   "metadata": {
    "collapsed": true
   },
   "outputs": [],
   "source": []
  }
 ],
 "metadata": {
  "kernelspec": {
   "display_name": "Python 2",
   "language": "python",
   "name": "python2"
  },
  "language_info": {
   "codemirror_mode": {
    "name": "ipython",
    "version": 2
   },
   "file_extension": ".py",
   "mimetype": "text/x-python",
   "name": "python",
   "nbconvert_exporter": "python",
   "pygments_lexer": "ipython2",
   "version": "2.7.10"
  }
 },
 "nbformat": 4,
 "nbformat_minor": 0
}
