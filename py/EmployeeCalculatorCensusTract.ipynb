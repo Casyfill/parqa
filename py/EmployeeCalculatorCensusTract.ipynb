{
 "metadata": {
  "name": "",
  "signature": "sha256:4ee949e9bb7a306b99d0f7f4c5f988846cb19cce52224b537c7b695216340a60"
 },
 "nbformat": 3,
 "nbformat_minor": 0,
 "worksheets": [
  {
   "cells": [
    {
     "cell_type": "code",
     "collapsed": false,
     "input": [
      "import pandas as pd\n",
      "import os"
     ],
     "language": "python",
     "metadata": {},
     "outputs": [],
     "prompt_number": 61
    },
    {
     "cell_type": "code",
     "collapsed": false,
     "input": [
      "WACemployeeData = pd.read_csv('../../shapeData/externalData/ny_wac_S000_JT00_2012.csv')\n",
      "RACemployeeData = pd.read_csv('../../shapeData/externalData/ny_rac_S000_JT00_2012.csv')"
     ],
     "language": "python",
     "metadata": {},
     "outputs": [],
     "prompt_number": 62
    },
    {
     "cell_type": "code",
     "collapsed": false,
     "input": [
      "WACemployeeData['w_geocode'] = WACemployeeData['w_geocode'].astype(str)\n",
      "WACemployeeData = WACemployeeData[['w_geocode','C000']]\n",
      "WACemployeeData.w_geocode = WACemployeeData.w_geocode.apply(lambda x: x[:11])"
     ],
     "language": "python",
     "metadata": {},
     "outputs": [],
     "prompt_number": 63
    },
    {
     "cell_type": "code",
     "collapsed": false,
     "input": [
      "WACByCensusTract = WACemployeeData.groupby('w_geocode')\n",
      "WACemployeesCensusTract = WACByCensusTract.sum().reset_index()[['w_geocode','C000']]\n",
      "WACemployeesCensusTract.columns = ['GEOID','NumberOfEmployeesWAC']"
     ],
     "language": "python",
     "metadata": {},
     "outputs": [],
     "prompt_number": 64
    },
    {
     "cell_type": "code",
     "collapsed": false,
     "input": [
      "RACemployeeData['h_geocode'] = RACemployeeData['h_geocode'].astype(str)\n",
      "RACemployeeData = RACemployeeData[['h_geocode','C000']]\n",
      "RACemployeeData.h_geocode = RACemployeeData.h_geocode.apply(lambda x: x[:11])"
     ],
     "language": "python",
     "metadata": {},
     "outputs": [],
     "prompt_number": 65
    },
    {
     "cell_type": "code",
     "collapsed": false,
     "input": [
      "RACByCensusTract = RACemployeeData.groupby('h_geocode')\n",
      "RACemployeesCensusTract = RACByCensusTract.sum().reset_index()[['h_geocode','C000']]\n",
      "RACemployeesCensusTract.columns = ['GEOID','NumberOfEmployeesRAC']"
     ],
     "language": "python",
     "metadata": {},
     "outputs": [],
     "prompt_number": 66
    },
    {
     "cell_type": "code",
     "collapsed": false,
     "input": [
      "# -- Write to csv\n",
      "WACemployeesCensusTract.to_csv('../../shapeData/Tables/WACemployeesCensusTract2012.csv', sep=',')\n",
      "RACemployeesCensusTract.to_csv('../../shapeData/Tables/RACemployeesCensusTract2012.csv', sep=',')"
     ],
     "language": "python",
     "metadata": {},
     "outputs": [],
     "prompt_number": 67
    }
   ],
   "metadata": {}
  }
 ]
}