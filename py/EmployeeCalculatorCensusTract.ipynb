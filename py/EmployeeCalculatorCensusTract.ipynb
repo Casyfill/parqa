{
 "cells": [
  {
   "cell_type": "code",
   "execution_count": 61,
   "metadata": {
    "collapsed": false
   },
   "outputs": [],
   "source": [
    "import pandas as pd\n",
    "import os"
   ]
  },
  {
   "cell_type": "code",
   "execution_count": 62,
   "metadata": {
    "collapsed": false
   },
   "outputs": [],
   "source": [
    "WACemployeeData = pd.read_csv('../../shapeData/externalData/ny_wac_S000_JT00_2012.csv')\n",
    "RACemployeeData = pd.read_csv('../../shapeData/externalData/ny_rac_S000_JT00_2012.csv')"
   ]
  },
  {
   "cell_type": "code",
   "execution_count": 63,
   "metadata": {
    "collapsed": false
   },
   "outputs": [],
   "source": [
    "WACemployeeData['w_geocode'] = WACemployeeData['w_geocode'].astype(str)\n",
    "WACemployeeData = WACemployeeData[['w_geocode','C000']]\n",
    "WACemployeeData.w_geocode = WACemployeeData.w_geocode.apply(lambda x: x[:11])"
   ]
  },
  {
   "cell_type": "code",
   "execution_count": 64,
   "metadata": {
    "collapsed": false
   },
   "outputs": [],
   "source": [
    "WACByCensusTract = WACemployeeData.groupby('w_geocode')\n",
    "WACemployeesCensusTract = WACByCensusTract.sum().reset_index()[['w_geocode','C000']]\n",
    "WACemployeesCensusTract.columns = ['GEOID','NumberOfEmployeesWAC']"
   ]
  },
  {
   "cell_type": "code",
   "execution_count": 65,
   "metadata": {
    "collapsed": false
   },
   "outputs": [],
   "source": [
    "RACemployeeData['h_geocode'] = RACemployeeData['h_geocode'].astype(str)\n",
    "RACemployeeData = RACemployeeData[['h_geocode','C000']]\n",
    "\n",
    "# -- trim the BBL code from the end of geoID so you obtain the census tract iD\n",
    "RACemployeeData.h_geocode = RACemployeeData.h_geocode.apply(lambda x: x[:11])"
   ]
  },
  {
   "cell_type": "code",
   "execution_count": 66,
   "metadata": {
    "collapsed": false
   },
   "outputs": [],
   "source": [
    "RACByCensusTract = RACemployeeData.groupby('h_geocode')\n",
    "RACemployeesCensusTract = RACByCensusTract.sum().reset_index()[['h_geocode','C000']]\n",
    "RACemployeesCensusTract.columns = ['GEOID','NumberOfEmployeesRAC']"
   ]
  },
  {
   "cell_type": "code",
   "execution_count": 67,
   "metadata": {
    "collapsed": false
   },
   "outputs": [],
   "source": [
    "# -- Write to csv\n",
    "WACemployeesCensusTract.to_csv('../../shapeData/Tables/WACemployeesCensusTract2012.csv', sep=',')\n",
    "RACemployeesCensusTract.to_csv('../../shapeData/Tables/RACemployeesCensusTract2012.csv', sep=',')"
   ]
  }
 ],
 "metadata": {
  "kernelspec": {
   "display_name": "Python 2",
   "language": "python",
   "name": "python2"
  },
  "language_info": {
   "codemirror_mode": {
    "name": "ipython",
    "version": 2
   },
   "file_extension": ".py",
   "mimetype": "text/x-python",
   "name": "python",
   "nbconvert_exporter": "python",
   "pygments_lexer": "ipython2",
   "version": "2.7.10"
  }
 },
 "nbformat": 4,
 "nbformat_minor": 0
}
