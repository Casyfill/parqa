{
 "cells": [
  {
   "cell_type": "code",
   "execution_count": 1,
   "metadata": {
    "collapsed": true
   },
   "outputs": [],
   "source": [
    "import matplotlib.pyplot as plt\n",
    "import statsmodels.api as sm\n",
    "from pandas import DataFrame as df\n",
    "import os\n",
    "import pandas as pd"
   ]
  },
  {
   "cell_type": "code",
   "execution_count": 2,
   "metadata": {
    "collapsed": false
   },
   "outputs": [
    {
     "ename": "SyntaxError",
     "evalue": "invalid syntax (<ipython-input-2-c1319a309157>, line 3)",
     "output_type": "error",
     "traceback": [
      "\u001b[1;36m  File \u001b[1;32m\"<ipython-input-2-c1319a309157>\"\u001b[1;36m, line \u001b[1;32m3\u001b[0m\n\u001b[1;33m    AllAttributesData = AllAttributesData.dropna()\u001b[0m\n\u001b[1;37m                    ^\u001b[0m\n\u001b[1;31mSyntaxError\u001b[0m\u001b[1;31m:\u001b[0m invalid syntax\n"
     ]
    }
   ],
   "source": [
    "DataInputPath = '../../shapeData/Tables/AllAttributes/'\n",
    "AllAttributesData = pd.read_csv(DataInputPath+'AllAttributes_GEOID_2013&2014&2015_FiscalYr_07-19-2015.csv'\n",
    "AllAttributesData = AllAttributesData.dropna()"
   ]
  },
  {
   "cell_type": "code",
   "execution_count": 17,
   "metadata": {
    "collapsed": false
   },
   "outputs": [],
   "source": [
    "Y = AllAttributesData['Amenities & Area Normalized Score']\n",
    "X = AllAttributesData['TotalPopulation']\n",
    "X = sm.add_constant(X)"
   ]
  },
  {
   "cell_type": "code",
   "execution_count": 18,
   "metadata": {
    "collapsed": false
   },
   "outputs": [],
   "source": [
    "res = sm.OLS(Y, X).fit()\n",
    "res.summary()\n",
    "R2 = res.rsquared\n",
    "plt.scatter(X['TotalPopulation'], Y, color='blue')\n",
    "plt.plot(X['TotalPopulation'], res.fittedvalues, color='red', linewidth=4)\n",
    "plt.ylabel('Ameneties & Area Normalized Score')\n",
    "plt.xlabel('TotalPopulation' + '<R^2 = ' + str(R2) + '>')\n",
    "plt.title('CensusTract_2013&14&15_FiscalYr AA Score vs. TotalPopulation')\n",
    "plt.show()"
   ]
  },
  {
   "cell_type": "code",
   "execution_count": null,
   "metadata": {
    "collapsed": true
   },
   "outputs": [],
   "source": []
  }
 ],
 "metadata": {
  "kernelspec": {
   "display_name": "Python 2",
   "language": "python",
   "name": "python2"
  },
  "language_info": {
   "codemirror_mode": {
    "name": "ipython",
    "version": 2
   },
   "file_extension": ".py",
   "mimetype": "text/x-python",
   "name": "python",
   "nbconvert_exporter": "python",
   "pygments_lexer": "ipython2",
   "version": "2.7.10"
  }
 },
 "nbformat": 4,
 "nbformat_minor": 0
}
