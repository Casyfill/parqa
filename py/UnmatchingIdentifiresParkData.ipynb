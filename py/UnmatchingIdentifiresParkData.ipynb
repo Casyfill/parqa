{
 "cells": [
  {
   "cell_type": "code",
   "execution_count": 1,
   "metadata": {
    "collapsed": true
   },
   "outputs": [],
   "source": [
    "import pandas as pd\n",
    "import numpy as np\n",
    "import os\n",
    "import geopandas as gp"
   ]
  },
  {
   "cell_type": "code",
   "execution_count": 2,
   "metadata": {
    "collapsed": false
   },
   "outputs": [
    {
     "name": "stdout",
     "output_type": "stream",
     "text": [
      "reading PIP_InspectionMain.xlsx...\n"
     ]
    }
   ],
   "source": [
    "# -- read the inspection files\n",
    "try:\n",
    "    inspection\n",
    "except:\n",
    "    print(\"reading PIP_InspectionMain.xlsx...\")\n",
    "    in_path = os.path.join('../../data','PIP')\n",
    "    in_name = os.path.join(in_path,'PIP_InspectionMain.xlsx')\n",
    "    inspection  = pd.read_excel(in_name)"
   ]
  },
  {
   "cell_type": "code",
   "execution_count": 3,
   "metadata": {
    "collapsed": false
   },
   "outputs": [
    {
     "name": "stdout",
     "output_type": "stream",
     "text": [
      "reading PIP_ALLSITES.xlsx...\n"
     ]
    }
   ],
   "source": [
    "# -- get all the ratings information\n",
    "try:\n",
    "    rating\n",
    "except:\n",
    "    print(\"reading PIP_ALLSITES.xlsx...\")\n",
    "    as_path  = os.path.join('../../data','PIP')\n",
    "    as_name  = os.path.join(as_path,'PIP_FeatureRatings.xlsx')\n",
    "    rating = pd.read_excel(as_name)\n",
    "    \n",
    "    # -- Sustitute numerical values to ratings\n",
    "    rating.loc[rating['Rating'] == 'a', ['Rating']] = 1\n",
    "    rating.loc[rating['Rating'] == 'A', ['Rating']] = 1\n",
    "    rating.loc[rating['Rating'] == 'N', ['Rating']] = np.nan\n",
    "    rating.loc[rating['Rating'] == 'U', ['Rating']] = 0\n",
    "    rating.loc[rating['Rating'] == 'U/S', ['Rating']] = 0"
   ]
  },
  {
   "cell_type": "code",
   "execution_count": 4,
   "metadata": {
    "collapsed": false
   },
   "outputs": [
    {
     "name": "stdout",
     "output_type": "stream",
     "text": [
      "reading PIP_ALLSITES.xlsx...\n"
     ]
    }
   ],
   "source": [
    "# -- get all the sites information\n",
    "try:\n",
    "    sites\n",
    "except:\n",
    "    print(\"reading PIP_ALLSITES.xlsx...\")\n",
    "    as_path  = os.path.join('../../data','PIP')\n",
    "    as_name  = os.path.join(as_path,'PIP_ALLSITES.xlsx')\n",
    "    sites = pd.read_excel(as_name)"
   ]
  },
  {
   "cell_type": "code",
   "execution_count": 5,
   "metadata": {
    "collapsed": false
   },
   "outputs": [
    {
     "name": "stdout",
     "output_type": "stream",
     "text": [
      "reading Property.shp...\n"
     ]
    }
   ],
   "source": [
    "# -- read in the property files\n",
    "try:\n",
    "    prop\n",
    "except:\n",
    "    print(\"reading Property.shp...\")\n",
    "    pr_path = os.path.join('../../shapeData','CUSPExportShps')\n",
    "    pr_name = os.path.join(pr_path,'Property.shp')\n",
    "    prop    = gp.GeoDataFrame.from_file(pr_name)"
   ]
  },
  {
   "cell_type": "code",
   "execution_count": 14,
   "metadata": {
    "collapsed": false
   },
   "outputs": [],
   "source": [
    "# -- pull off only first zip in list (if there are multiple)\n",
    "prop.ZIPCODE = prop.ZIPCODE.apply(lambda x: x[:5])"
   ]
  },
  {
   "cell_type": "code",
   "execution_count": 15,
   "metadata": {
    "collapsed": false
   },
   "outputs": [],
   "source": [
    "# -- Change Rating type to float for calculations\n",
    "rating[['Rating']] = rating[['Rating']].astype(float)"
   ]
  },
  {
   "cell_type": "code",
   "execution_count": 16,
   "metadata": {
    "collapsed": false
   },
   "outputs": [],
   "source": [
    "# -- Create pivot table of inspections.\n",
    "pivotInspect = rating.pivot(index='Inspection ID', columns = 'Feature', values = 'Rating')"
   ]
  },
  {
   "cell_type": "code",
   "execution_count": 35,
   "metadata": {
    "collapsed": false
   },
   "outputs": [],
   "source": [
    "# -- create the base ID column  MAY HAVE TO BE TWEAKED\n",
    "inspection['PID_base'] = [i.split('-')[0].replace('Z','') \n",
    "                      for i in inspection['Prop ID']]"
   ]
  },
  {
   "cell_type": "code",
   "execution_count": null,
   "metadata": {
    "collapsed": true
   },
   "outputs": [],
   "source": [
    "######################## Checking the unmatching Identifiers ########################"
   ]
  },
  {
   "cell_type": "code",
   "execution_count": 117,
   "metadata": {
    "collapsed": false
   },
   "outputs": [],
   "source": [
    "# -- Create a list of unique Porperty IDs in the Inspection Dataframe\n",
    "InspectionUniqueId = inspection['PID_base'].unique()"
   ]
  },
  {
   "cell_type": "code",
   "execution_count": 141,
   "metadata": {
    "collapsed": false
   },
   "outputs": [],
   "source": [
    "# -- Create a dataframe of Unique Prop Ids in Sites file\n",
    "sitesPropIdDF = pd.DataFrame(sites['PropNum'].unique())\n",
    "sitesPropIdDF.columns = ['propID']"
   ]
  },
  {
   "cell_type": "code",
   "execution_count": 142,
   "metadata": {
    "collapsed": false
   },
   "outputs": [],
   "source": [
    "# -- Extract the unmatching prop IDs between AllSites and Inspections\n",
    "UMsitesPropIdDF=sitesPropIdDF[~sitesPropIdDF.propID.isin(InspectionUniqueId)]"
   ]
  },
  {
   "cell_type": "code",
   "execution_count": 143,
   "metadata": {
    "collapsed": true
   },
   "outputs": [],
   "source": [
    "# -- export file\n",
    "UMsitesPropIdDF.to_csv('../Outputs/UnmatchingAllSitesInspectionsMain.csv', sep='\\t', encoding='utf-8')"
   ]
  },
  {
   "cell_type": "code",
   "execution_count": 120,
   "metadata": {
    "collapsed": false
   },
   "outputs": [],
   "source": [
    "# -- Create a list of unique Inspection IDs in the Rating Dataframe\n",
    "UniqeRatingId = rating['Inspection ID'].unique()"
   ]
  },
  {
   "cell_type": "code",
   "execution_count": 121,
   "metadata": {
    "collapsed": false
   },
   "outputs": [],
   "source": [
    "# -- Create a dataframe of Inspection IDs in Inspection file\n",
    "InspecUniqueDF = pd.DataFrame(inspection['Inspection ID'].unique())\n",
    "InspecUniqueDF.columns = ['InspectionID']"
   ]
  },
  {
   "cell_type": "code",
   "execution_count": 139,
   "metadata": {
    "collapsed": false
   },
   "outputs": [],
   "source": [
    "# -- Extract the unmatching Inspection IDs between AllSites and Inspections\n",
    "UMInspecUniqueDF = InspecUniqueDF[~InspecUniqueDF.InspectionID.isin(UniqeRatingId)]"
   ]
  },
  {
   "cell_type": "code",
   "execution_count": 140,
   "metadata": {
    "collapsed": true
   },
   "outputs": [],
   "source": [
    "# -- export file\n",
    "UMShapeFilePropDF.to_csv('../Outputs/UnmatchingRatingInspectionsMain.csv', sep='\\t', encoding='utf-8')"
   ]
  },
  {
   "cell_type": "code",
   "execution_count": 135,
   "metadata": {
    "collapsed": false
   },
   "outputs": [],
   "source": [
    "# -- Extract the unmatching prop IDs between Prop Shapefile and Inspection\n",
    "ShapeFilePropDF = prop[['GISPROPNUM']]\n",
    "UMShapeFilePropDF = ShapeFilePropDF[~ShapeFilePropDF.GISPROPNUM.isin(InspectionUniqueId)]"
   ]
  },
  {
   "cell_type": "code",
   "execution_count": 137,
   "metadata": {
    "collapsed": false
   },
   "outputs": [],
   "source": [
    "# -- export file\n",
    "UMShapeFilePropDF.to_csv('../Outputs/UnmatchingPropShapeFileInspectionsMain.csv', sep='\\t', encoding='utf-8')"
   ]
  },
  {
   "cell_type": "code",
   "execution_count": 60,
   "metadata": {
    "collapsed": true
   },
   "outputs": [],
   "source": [
    "# -- Remove Greenstreets from sites\n",
    "# sites = sites[sites['Category'] != 'Greenstreet']"
   ]
  },
  {
   "cell_type": "code",
   "execution_count": 11,
   "metadata": {
    "collapsed": true
   },
   "outputs": [],
   "source": [
    "# -- Merge inspection report with sites [Greenstreets are removed from sites]\n",
    "# finalDF = pd.merge(sites, inspection, on = 'Prop ID', how = 'left')"
   ]
  },
  {
   "cell_type": "code",
   "execution_count": 12,
   "metadata": {
    "collapsed": false
   },
   "outputs": [],
   "source": [
    "# -- Drop sites that have inspections\n",
    "# finalDF = finalDF[finalDF['Inspection ID'].notnull()]"
   ]
  },
  {
   "cell_type": "code",
   "execution_count": 13,
   "metadata": {
    "collapsed": false
   },
   "outputs": [],
   "source": [
    "# -- Merge frame with pivot table of inspections on Inspection ID\n",
    "# finalDF = pd.merge(finalDF, pivotInspect, left_on='Inspection ID', right_index = True, how='left')"
   ]
  },
  {
   "cell_type": "code",
   "execution_count": 14,
   "metadata": {
    "collapsed": true
   },
   "outputs": [],
   "source": [
    "##### -- Merge the inspection and properties information\n",
    "# finalDF = pd.merge(finalDF, prop, 'left', left_on='PID_base', \n",
    "#                   right_on='GISPROPNUM')"
   ]
  },
  {
   "cell_type": "code",
   "execution_count": 21,
   "metadata": {
    "collapsed": false
   },
   "outputs": [],
   "source": [
    "# -- check if there are inspected parks that aren't in allsites\n",
    "check_ALLSITES = False\n",
    "if check_ALLSITES:\n",
    "    print(\"checking allsites file...\")\n",
    "    for ii,pid in enumerate(inspection['Prop ID']):\n",
    "        flag = True\n",
    "        for asid in sites['Prop ID']:\n",
    "            if pid==asid:\n",
    "                flag = False\n",
    "                break\n",
    "        if flag:\n",
    "            print(\"couldn't find {0} : {1}\".format(ii,pid))"
   ]
  },
  {
   "cell_type": "code",
   "execution_count": 65,
   "metadata": {
    "collapsed": false
   },
   "outputs": [],
   "source": [
    "# -- check features file\n",
    "check_FEATRAT = False\n",
    "if check_FEATRAT:\n",
    "    for ii,iid in enumerate(inspection['Inspection ID']):\n",
    "        if iid not in pivotInspect.index:\n",
    "            print(\"couldn't find {0} : Inspection ID: {1}\".format(ii,iid))"
   ]
  },
  {
   "cell_type": "code",
   "execution_count": 66,
   "metadata": {
    "collapsed": false
   },
   "outputs": [],
   "source": [
    "# -- check properties\n",
    "check_PROP = False\n",
    "if check_PROP:\n",
    "    print(\"checking properties file...\")\n",
    "    pid_bad = []\n",
    "    pid_bad_ii = []\n",
    "    for ii,pid in enumerate(inspection['PID_base']):\n",
    "        flag = True\n",
    "        for gpn in prop.GISPROPNUM:\n",
    "            if pid==gpn:\n",
    "                flag = False\n",
    "                break\n",
    "        if flag:\n",
    "            if pid not in pid_bad:\n",
    "                pid_bad_ii.append(ii)\n",
    "                pid_bad.append(pid)\n",
    "            print(\"couldn't find {0} : {1}\".format(ii,pid))\n",
    "\n",
    "    for ii in range(len(pid_bad_ii)):\n",
    "        subcat = sites.iloc[sites[sites['Prop ID'] == \\\n",
    "                                inspection.iloc[pid_bad_ii[ii]]['Prop ID']] \\\n",
    "                                .index[0]]['Sub-Category']\n",
    "        print(\"{0:8} : {1}\" \\\n",
    "                  .format(inspection.iloc[pid_bad_ii[ii]]['Prop ID'],subcat))"
   ]
  }
 ],
 "metadata": {
  "kernelspec": {
   "display_name": "Python 2",
   "language": "python",
   "name": "python2"
  },
  "language_info": {
   "codemirror_mode": {
    "name": "ipython",
    "version": 2
   },
   "file_extension": ".py",
   "mimetype": "text/x-python",
   "name": "python",
   "nbconvert_exporter": "python",
   "pygments_lexer": "ipython2",
   "version": "2.7.10"
  }
 },
 "nbformat": 4,
 "nbformat_minor": 0
}
