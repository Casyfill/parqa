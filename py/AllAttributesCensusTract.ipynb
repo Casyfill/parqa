{
 "cells": [
  {
   "cell_type": "code",
   "execution_count": 45,
   "metadata": {
    "collapsed": true
   },
   "outputs": [],
   "source": [
    "import pandas as pd\n",
    "import os"
   ]
  },
  {
   "cell_type": "code",
   "execution_count": 46,
   "metadata": {
    "collapsed": false
   },
   "outputs": [],
   "source": [
    "# -- Bring in the socioeconomic Data\n",
    "censustractsocioEconomicDataPath = os.path.join('../../shapeData/externalData/','CensusTractExternalDataSummary.csv')\n",
    "censustractsocioEconomicData = pd.read_csv(censustractsocioEconomicDataPath)\n",
    "# censustractsocioEconomicData = censustractsocioEconomicData.set_index('GEOID')"
   ]
  },
  {
   "cell_type": "code",
   "execution_count": 47,
   "metadata": {
    "collapsed": false
   },
   "outputs": [],
   "source": [
    "# -- Bring in the market Value Data\n",
    "medianMarketValueCensusTractPath=('../../shapeData/Tables/medianMarketValueCensusTract.csv')\n",
    "medianMarketValueCensusTract = pd.read_csv(medianMarketValueCensusTractPath)\n",
    "medianMarketValueCensusTract = medianMarketValueCensusTract[['CensusTract','Market_Val']]"
   ]
  },
  {
   "cell_type": "code",
   "execution_count": 48,
   "metadata": {
    "collapsed": true
   },
   "outputs": [],
   "source": [
    "CensusTractMarketValueSocioeconomic = pd.merge(medianMarketValueCensusTract, censustractsocioEconomicData, left_on='CensusTract', right_on= 'GEOID', how='left')"
   ]
  },
  {
   "cell_type": "code",
   "execution_count": 52,
   "metadata": {
    "collapsed": false
   },
   "outputs": [],
   "source": [
    "# # -- Bring in Park Quality Data\n",
    "# parkQualityZipCodePath=('../../shapeData/Tables/ParkQualityZipcode2014.csv')\n",
    "# parkQualityZipCode = pd.read_csv(parkQualityZipCodePath)\n",
    "# # -- Get rid of the duplicated index column\n",
    "# del parkQualityZipCode['Unnamed: 0']"
   ]
  },
  {
   "cell_type": "code",
   "execution_count": 51,
   "metadata": {
    "collapsed": false
   },
   "outputs": [],
   "source": [
    "# -- Write to csv\n",
    "# censustractsocioEconomicData.to_csv('../../shapeData/Tables/CensusTractAllAttributes2014.csv', sep=',')"
   ]
  },
  {
   "cell_type": "code",
   "execution_count": null,
   "metadata": {
    "collapsed": true
   },
   "outputs": [],
   "source": []
  }
 ],
 "metadata": {
  "kernelspec": {
   "display_name": "Python 2",
   "language": "python",
   "name": "python2"
  },
  "language_info": {
   "codemirror_mode": {
    "name": "ipython",
    "version": 2
   },
   "file_extension": ".py",
   "mimetype": "text/x-python",
   "name": "python",
   "nbconvert_exporter": "python",
   "pygments_lexer": "ipython2",
   "version": "2.7.10"
  }
 },
 "nbformat": 4,
 "nbformat_minor": 0
}
