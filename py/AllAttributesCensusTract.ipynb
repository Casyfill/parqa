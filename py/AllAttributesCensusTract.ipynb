{
 "cells": [
  {
   "cell_type": "code",
   "execution_count": 78,
   "metadata": {
    "collapsed": true
   },
   "outputs": [],
   "source": [
    "import pandas as pd\n",
    "import os"
   ]
  },
  {
   "cell_type": "code",
   "execution_count": null,
   "metadata": {
    "collapsed": true
   },
   "outputs": [],
   "source": [
    "# -- years being used for evaluation\n",
    "Year = '2004'\n",
    "\n",
    "# -- use Fiscal or Calendar year\n",
    "UseFiscalYear = True\n",
    "\n",
    "# -- input path\n",
    "InputPath = '../../shapeData/Tables/ParkQualityScores/'\n",
    "\n",
    "# -- output path\n",
    "WriteOutputPath = '../../shapeData/Tables/CensusTractAllAttributes/'"
   ]
  },
  {
   "cell_type": "code",
   "execution_count": 79,
   "metadata": {
    "collapsed": false
   },
   "outputs": [],
   "source": [
    "# -- Bring in the socioeconomic Data\n",
    "censustractsocioEconomicDataPath = os.path.join('../../shapeData/externalData/','CensusTractExternalDataSummary.csv')\n",
    "censustractsocioEconomicData = pd.read_csv(censustractsocioEconomicDataPath)\n",
    "censustractsocioEconomicData['GEOID'] = censustractsocioEconomicData['GEOID'].astype(str)"
   ]
  },
  {
   "cell_type": "code",
   "execution_count": 80,
   "metadata": {
    "collapsed": false
   },
   "outputs": [],
   "source": [
    "# -- Bring in the market Value Data\n",
    "medianMarketValueCensusTractPath=('../../shapeData/Tables/medianMarketValueCensusTract.csv')\n",
    "medianMarketValueCensusTract = pd.read_csv(medianMarketValueCensusTractPath)\n",
    "medianMarketValueCensusTract = medianMarketValueCensusTract[['CensusTract','Market_Val']]"
   ]
  },
  {
   "cell_type": "code",
   "execution_count": 81,
   "metadata": {
    "collapsed": false
   },
   "outputs": [],
   "source": [
    "# -- Merge market value and socioeconomic (reduce to the market value)\n",
    "CensusTractMarketValueSocioeconomic = pd.merge( medianMarketValueCensusTract,censustractsocioEconomicData, left_on='CensusTract', right_on= 'GEOID', how='left')"
   ]
  },
  {
   "cell_type": "code",
   "execution_count": 82,
   "metadata": {
    "collapsed": false
   },
   "outputs": [],
   "source": [
    "# -- Bring in the employess Data \n",
    "employeeCensusTractPath=('../../shapeData/Tables/WACemployeesCensusTract2012.csv')\n",
    "employeeCensusTract = pd.read_csv(employeeCensusTractPath)\n",
    "employeeCensusTract = employeeCensusTract[['GEOID','NumberOfEmployeesWAC']]"
   ]
  },
  {
   "cell_type": "code",
   "execution_count": 83,
   "metadata": {
    "collapsed": false
   },
   "outputs": [],
   "source": [
    "# -- Merge previously joined data to Emplyee data\n",
    "SocioeconomicMarketEmployeeCensusTract = pd.merge( CensusTractMarketValueSocioeconomic,employeeCensusTract, on = 'GEOID', how = 'left')"
   ]
  },
  {
   "cell_type": "code",
   "execution_count": 84,
   "metadata": {
    "collapsed": false
   },
   "outputs": [],
   "source": [
    "# -- Bring in Park Quality Data\n",
    "if UseFiscalYear:\n",
    "    parkQualityCensusTract = pd.read_csv(InputPath + 'ParkQuality_GEOID_%s_FiscalYr_07-14-2015.csv' % (Year), index_col=0)\n",
    "else:\n",
    "    parkQualityCensusTract = pd.read_csv(InputPath + 'ParkQuality_GEOID_%s_CalendarYr_07-14-2015.csv' % (Year), index_col=0)\n",
    "    \n",
    "censustractAll = pd.merge(parkQualityCensusTract, SocioeconomicMarketEmployeeCensusTract, on= 'GEOID', how='left')\n"
   ]
  },
  {
   "cell_type": "code",
   "execution_count": 85,
   "metadata": {
    "collapsed": false
   },
   "outputs": [],
   "source": [
    "# -- Write to csv\n",
    "now = datetime.now()\n",
    "if UseFiscalYear:\n",
    "    YearType = 'FiscalYr'\n",
    "else:\n",
    "    YearType = 'CalendarYr'\n",
    "censustractAll.to_csv(WriteOutputPath + 'AllAttributes_CensusTract_%s_%s_%s.csv' % ( Year.replace(',','&'), YearType, now.strftime('%m-%d-%Y')), sep=',')"
   ]
  }
 ],
 "metadata": {
  "kernelspec": {
   "display_name": "Python 2",
   "language": "python",
   "name": "python2"
  },
  "language_info": {
   "codemirror_mode": {
    "name": "ipython",
    "version": 2
   },
   "file_extension": ".py",
   "mimetype": "text/x-python",
   "name": "python",
   "nbconvert_exporter": "python",
   "pygments_lexer": "ipython2",
   "version": "2.7.10"
  }
 },
 "nbformat": 4,
 "nbformat_minor": 0
}
