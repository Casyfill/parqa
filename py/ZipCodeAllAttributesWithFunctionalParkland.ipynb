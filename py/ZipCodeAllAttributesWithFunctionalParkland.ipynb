{
 "cells": [
  {
   "cell_type": "code",
   "execution_count": 1,
   "metadata": {
    "collapsed": true
   },
   "outputs": [],
   "source": [
    "import pandas as pd\n",
    "import os\n",
    "from datetime import datetime"
   ]
  },
  {
   "cell_type": "code",
   "execution_count": 2,
   "metadata": {
    "collapsed": true
   },
   "outputs": [],
   "source": [
    "# -- years being used for evaluation\n",
    "Year = '2004'\n",
    "\n",
    "# -- use Fiscal or Calendar year\n",
    "UseFiscalYear = True\n",
    "\n",
    "# -- input path\n",
    "InputPath = '../../shapeData/Tables/ParkQualityScores/'\n",
    "\n",
    "# -- output path\n",
    "WriteOutputPath = '../../shapeData/Tables/ZipcodeAllAttributes/'"
   ]
  },
  {
   "cell_type": "code",
   "execution_count": 3,
   "metadata": {
    "collapsed": true
   },
   "outputs": [],
   "source": [
    "# -- Bring in the socioeconomic Data\n",
    "ZipcodesocioEconomicDataPath = os.path.join('../../shapeData/externalData/','ZipCodeExternalDataSummary.csv')\n",
    "ZipcodesocioEconomicData = pd.read_csv(ZipcodesocioEconomicDataPath)"
   ]
  },
  {
   "cell_type": "code",
   "execution_count": 4,
   "metadata": {
    "collapsed": false
   },
   "outputs": [],
   "source": [
    "# -- Bring in the market Value Data\n",
    "medianMarketValueZipCodePath=('../../shapeData/Tables/medianMarketValueZipCode.csv')\n",
    "medianMarketValueZipCode = pd.read_csv(medianMarketValueZipCodePath)\n",
    "medianMarketValueZipCode = medianMarketValueZipCode[['ZipCode','Market_Val']]"
   ]
  },
  {
   "cell_type": "code",
   "execution_count": 5,
   "metadata": {
    "collapsed": false
   },
   "outputs": [],
   "source": [
    "# -- Bring in the economic Data\n",
    "economicDataZipCodePath=('../../shapeData/externalData/zbp13totals.csv')\n",
    "economicDataZipCode = pd.read_csv(economicDataZipCodePath)"
   ]
  },
  {
   "cell_type": "code",
   "execution_count": 6,
   "metadata": {
    "collapsed": false
   },
   "outputs": [],
   "source": [
    "# -- Clean the economic Data and rename columns with better titles\n",
    "economicDataZipCode = economicDataZipCode[['zip','emp','ap','est']]\n",
    "economicDataZipCode = economicDataZipCode.rename(columns={'zip':'ZipCode','emp':'TotalMidMarchEmployees', 'ap':'TotalAnnualPayroll($1,000)', 'est':'TotalNumberofEstablishments'})"
   ]
  },
  {
   "cell_type": "code",
   "execution_count": 7,
   "metadata": {
    "collapsed": false
   },
   "outputs": [],
   "source": [
    "# -- Bring in Park Quality Data\n",
    "if UseFiscalYear:\n",
    "    parkQualityZipCode = pd.read_csv(InputPath + 'ParkQuality_ZIPCODE_%s_FiscalYr_07-13-2015.csv' % (Year), index_col=0)\n",
    "else:\n",
    "    parkQualityZipCode = pd.read_csv(InputPath + 'ParkQuality_ZIPCODE_%s_CalendarYr_07-13-2015.csv' % (Year), index_col=0)\n",
    "\n",
    "# parkQualityZipCodePath=('../../shapeData/Tables/AmenityAreaParkQualityZIPCODE_2014_07-09-2015.csv')\n",
    "# parkQualityZipCode = pd.read_csv(parkQualityZipCodePath)\n",
    "# # -- Get rid of the duplicated index column\n",
    "# del parkQualityZipCode['Unnamed: 0']"
   ]
  },
  {
   "cell_type": "code",
   "execution_count": 26,
   "metadata": {
    "collapsed": false
   },
   "outputs": [],
   "source": [
    "# -- Bring in Functional Parkland Data\n",
    "ZipcodeFunctionalParklandPath=('/scratch/share/gdobler/parqa/output/Tables/CUSP_Adjusted_Spatial_Data.xlsx')\n",
    "ZipcodeFunctionalParkland = pd.read_excel(ZipcodeFunctionalParklandPath)\n",
    "ZipcodeFunctionalParklandSum = FunctionalParkland.groupby(by=['ZIPCODE'])['Acres_Adj'].sum().reset_index()"
   ]
  },
  {
   "cell_type": "code",
   "execution_count": 31,
   "metadata": {
    "collapsed": false
   },
   "outputs": [],
   "source": [
    "# -- Join the market value, socioeconomic, econoimic, functional parkland, and park-qality tables\n",
    "ZipCodeMarketValueSocioeconomic = pd.merge(ZipcodesocioEconomicData, medianMarketValueZipCode, right_on='ZipCode', left_on= 'ZipCode5', how='left')\n",
    "ZipcodeExternalData = pd.merge(ZipCodeMarketValueSocioeconomic, economicDataZipCode, on= 'ZipCode', how='left')\n",
    "ZipCodeAllExternalData = pd.merge(parkQualityZipCode, ZipcodeExternalData, left_on='ZIPCODE', right_on = 'ZipCode', how='left')\n",
    "ZipCodeAllAttributes = pd.merge(ZipCodeAllExternalData, ZipcodeFunctionalParklandSum, on = 'ZIPCODE', how= 'left')\n",
    "ZipCodeAllAttributes['PopulationPerParkland'] = ZipCodeAllAttributes['TotalPopulation']/ZipCodeAllAttributes['Acres_Adj']\n",
    "ZipCodeAllAttributes['EmployeesPerParkland'] = ZipCodeAllAttributes['TotalMidMarchEmployees']/ZipCodeAllAttributes['Acres_Adj']"
   ]
  },
  {
   "cell_type": "code",
   "execution_count": null,
   "metadata": {
    "collapsed": true
   },
   "outputs": [],
   "source": [
    "# -- Write to csv\n",
    "now = datetime.now()\n",
    "if UseFiscalYear:\n",
    "    YearType = 'FiscalYr'\n",
    "else:\n",
    "    YearType = 'CalendarYr'\n",
    "ZipCodeAllAttributes.to_csv(WriteOutputPath + 'AllAttributes_Zipcode_%s_%s_%s.csv' % ( Year.replace(',','&'), YearType, now.strftime('%m-%d-%Y')), sep=',')"
   ]
  }
 ],
 "metadata": {
  "kernelspec": {
   "display_name": "Python 2",
   "language": "python",
   "name": "python2"
  },
  "language_info": {
   "codemirror_mode": {
    "name": "ipython",
    "version": 2
   },
   "file_extension": ".py",
   "mimetype": "text/x-python",
   "name": "python",
   "nbconvert_exporter": "python",
   "pygments_lexer": "ipython2",
   "version": "2.7.10"
  }
 },
 "nbformat": 4,
 "nbformat_minor": 0
}
