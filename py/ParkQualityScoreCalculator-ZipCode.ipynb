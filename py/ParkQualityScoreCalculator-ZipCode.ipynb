{
 "cells": [
  {
   "cell_type": "code",
   "execution_count": 1,
   "metadata": {
    "collapsed": true
   },
   "outputs": [],
   "source": [
    "import pandas as pd\n",
    "import numpy as np\n",
    "import os\n",
    "import geopandas as gp"
   ]
  },
  {
   "cell_type": "code",
   "execution_count": 2,
   "metadata": {
    "collapsed": false
   },
   "outputs": [
    {
     "name": "stdout",
     "output_type": "stream",
     "text": [
      "reading 2014_Inspections.csv...\n"
     ]
    }
   ],
   "source": [
    "# -- read the park quality file on a year basis \n",
    "try:\n",
    "    ParkQualityYear\n",
    "except:\n",
    "    print(\"reading 2014_Inspections.csv...\")\n",
    "    in_path = os.path.join('../../shapeData','Dataframes')\n",
    "    in_name = os.path.join(in_path,'2014_Inspections.csv')\n",
    "    yearDemoDF = pd.read_csv(in_name, sep='\\t')"
   ]
  },
  {
   "cell_type": "code",
   "execution_count": 4,
   "metadata": {
    "collapsed": false
   },
   "outputs": [],
   "source": [
    "# -- Get rid of the duplicated index column\n",
    "del yearDemoDF['Unnamed: 0']"
   ]
  },
  {
   "cell_type": "code",
   "execution_count": 5,
   "metadata": {
    "collapsed": true
   },
   "outputs": [],
   "source": [
    "# -- categories\n",
    "categories = [u'Athletic Fields', u'Benches',\n",
    "       u'Fences', u'Glass', u'Graffiti', u'Horticultural Areas', u'Ice',\n",
    "       u'Lawns', u'Litter', u'Paved Surfaces', u'Play Equipment',\n",
    "       u'Safety Surface', u'Sidewalks', u'Trails', u'Trees', u'Water Bodies',\n",
    "       u'Weeds']"
   ]
  },
  {
   "cell_type": "code",
   "execution_count": 6,
   "metadata": {
    "collapsed": false
   },
   "outputs": [],
   "source": [
    "# -- calculate inspection scores [ratio]\n",
    "yearDemoDF['Ratings Ratio'] = yearDemoDF[categories].mean(axis=1)"
   ]
  },
  {
   "cell_type": "code",
   "execution_count": 7,
   "metadata": {
    "collapsed": false
   },
   "outputs": [],
   "source": [
    "# -- seed final park stats DF\n",
    "byParkID = yearDemoDF[['Prop ID', 'PID_base', 'Category', 'ZIPCODE']].groupby(['Prop ID'], as_index = False)\n",
    "parkStats = byParkID.first()\n",
    "\n",
    "# -- average Park Score and Acres\n",
    "byParkBase = yearDemoDF.groupby(['PID_base'], as_index = False)\n",
    "parkAvgScore = byParkBase['Ratings Ratio','ACRES_x'].mean()\n",
    "parkAvgScore.rename(columns={'Ratings Ratio':'Avg Ratio'}, inplace=True)\n",
    "parkStats = pd.merge(parkStats, parkAvgScore, on='PID_base', how='left')\n",
    "\n",
    "# -- calculate weighted Score for park\n",
    "parkStats['Weighted Score'] = parkStats['Avg Ratio'] * parkStats['ACRES_x']"
   ]
  },
  {
   "cell_type": "code",
   "execution_count": 8,
   "metadata": {
    "collapsed": true
   },
   "outputs": [],
   "source": [
    "# -- seed district_category stats DF\n",
    "byCategory = parkStats.groupby(['ZIPCODE', 'Category'], as_index = False)\n",
    "categoryStats = byCategory.first()[['ZIPCODE', 'Category']]\n",
    "\n",
    "# -- sum Acres and Scores per category\n",
    "catSums = byCategory['ACRES_x', 'Weighted Score'].sum()\n",
    "catSums.rename(columns={'Weighted Score':'Score'}, inplace=True)\n",
    "categoryStats = pd.merge(categoryStats, catSums, on=['ZIPCODE', 'Category'], how='left')\n",
    "\n",
    "# -- count parks per category\n",
    "catCounts = byCategory.size().reset_index().rename(columns={0:'Counts'})\n",
    "categoryStats = pd.merge(categoryStats, catCounts, on=['ZIPCODE', 'Category'], how='left')"
   ]
  },
  {
   "cell_type": "code",
   "execution_count": 9,
   "metadata": {
    "collapsed": true
   },
   "outputs": [],
   "source": [
    "# -- group by zipcode and category\n",
    "byZIPCODE = categoryStats.groupby('ZIPCODE', as_index = False)\n",
    "ZIPCODESums = byZIPCODE.sum()[['ZIPCODE', 'Counts']]\n",
    "\n",
    "categoryStats = pd.merge(categoryStats, ZIPCODESums, on='ZIPCODE', how = 'left', suffixes = ['_Cat', '_ZIPCODE'])"
   ]
  },
  {
   "cell_type": "code",
   "execution_count": 10,
   "metadata": {
    "collapsed": true
   },
   "outputs": [],
   "source": [
    "# -- calculate weighted score for zipcode\n",
    "categoryStats['Weighted Score'] = categoryStats['Score'] / categoryStats['ACRES_x']\n",
    "categoryStats['Normalized Score'] = categoryStats['Weighted Score'] * (categoryStats['Counts_Cat'] / categoryStats['Counts_ZIPCODE'])"
   ]
  },
  {
   "cell_type": "code",
   "execution_count": 11,
   "metadata": {
    "collapsed": true
   },
   "outputs": [],
   "source": [
    "# -- sum Scores per Zipcode\n",
    "byZIPCODE = categoryStats.groupby('ZIPCODE')\n",
    "ZIPCODEStats = byZIPCODE \\\n",
    "                    .sum() \\\n",
    "                    .reset_index() \\\n",
    "                    [['ZIPCODE', 'Normalized Score']]"
   ]
  },
  {
   "cell_type": "code",
   "execution_count": 15,
   "metadata": {
    "collapsed": false
   },
   "outputs": [],
   "source": [
    "# -- Write to csv\n",
    "ZIPCODEStats.to_csv('../../shapeData/Tables/ParkQualityZipcode2014.csv', sep=',')"
   ]
  }
 ],
 "metadata": {
  "kernelspec": {
   "display_name": "Python 2",
   "language": "python",
   "name": "python2"
  },
  "language_info": {
   "codemirror_mode": {
    "name": "ipython",
    "version": 2
   },
   "file_extension": ".py",
   "mimetype": "text/x-python",
   "name": "python",
   "nbconvert_exporter": "python",
   "pygments_lexer": "ipython2",
   "version": "2.7.10"
  }
 },
 "nbformat": 4,
 "nbformat_minor": 0
}
