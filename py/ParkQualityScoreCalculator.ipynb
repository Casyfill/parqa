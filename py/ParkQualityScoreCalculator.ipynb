{
 "cells": [
  {
   "cell_type": "code",
   "execution_count": null,
   "metadata": {
    "collapsed": true
   },
   "outputs": [],
   "source": [
    "import pandas as pd\n",
    "import numpy as np\n",
    "import os\n",
    "import geopandas as gp\n",
    "from datetime import datetime"
   ]
  },
  {
   "cell_type": "code",
   "execution_count": null,
   "metadata": {
    "collapsed": true
   },
   "outputs": [],
   "source": [
    "# -- year being used for evaluation\n",
    "Year = 2014\n",
    "\n",
    "# -- spatial key being used for calculation\n",
    "SpatialKey = 'GEOID'\n",
    "\n",
    "# -- Dataframe input path\n",
    "InspectionInputPath = '../../shapeData/Dataframes/'\n",
    "\n",
    "# -- Census Park Breakdown input file\n",
    "CensusParkInputFile = '../../shapeData/Tables/AllSites_MasterPropID_CT.xlsx'\n",
    "\n",
    "# -- output path\n",
    "OutputPath = '../../shapeData/Tables/'"
   ]
  },
  {
   "cell_type": "code",
   "execution_count": null,
   "metadata": {
    "collapsed": false
   },
   "outputs": [],
   "source": [
    "# -- read the park quality file on a year basis \n",
    "try:\n",
    "    yearDF\n",
    "except:\n",
    "    print \"reading %d_Inspections.csv...\" % (Year)\n",
    "    yearDF = pd.read_csv(InspectionInputPath + '%d_Inspections.csv' % (Year), index_col=0, sep='\\t')"
   ]
  },
  {
   "cell_type": "code",
   "execution_count": null,
   "metadata": {
    "collapsed": false
   },
   "outputs": [],
   "source": [
    "# -- read the park listing breakdowns by census tract\n",
    "try:\n",
    "    censusParkDF\n",
    "except:\n",
    "    if SpatialKey == 'GEOID':\n",
    "        print \"reading census park info file...\"\n",
    "        censusParkDF = pd.read_excel(CensusParkInputFile)"
   ]
  },
  {
   "cell_type": "code",
   "execution_count": null,
   "metadata": {
    "collapsed": true
   },
   "outputs": [],
   "source": [
    "# -- categories\n",
    "categories = [u'Athletic Fields', u'Benches',\n",
    "       u'Fences', u'Glass', u'Graffiti', u'Horticultural Areas', u'Ice',\n",
    "       u'Lawns', u'Litter', u'Paved Surfaces', u'Play Equipment',\n",
    "       u'Safety Surface', u'Sidewalks', u'Trails', u'Trees', u'Water Bodies',\n",
    "       u'Weeds']"
   ]
  },
  {
   "cell_type": "code",
   "execution_count": null,
   "metadata": {
    "collapsed": false
   },
   "outputs": [],
   "source": [
    "# -- calculate inspection scores [ratio]\n",
    "yearDF['Ratings Ratio'] = 1 - yearDF[categories].mean(axis=1)"
   ]
  },
  {
   "cell_type": "code",
   "execution_count": null,
   "metadata": {
    "collapsed": false
   },
   "outputs": [],
   "source": [
    "# -- build attribute list to capture from inspection reports.  \n",
    "# --   If Spatial included, grab it.  If not, its GEOID which is in a different file\n",
    "yearDFAttr = ['Prop ID', 'PID_base', 'Category']\n",
    "if SpatialKey in yearDF.columns:\n",
    "    yearDFAttr.append(SpatialKey)\n",
    "    \n",
    "# -- seed final park stats DF   \n",
    "byParkID = yearDF[yearDFAttr].groupby(['Prop ID'], as_index = False)\n",
    "parkStats = byParkID.first()\n",
    "\n",
    "# -- average Park Score and Acres\n",
    "byParkBase = yearDF.groupby(['Prop ID', 'Adjusted Acres'], as_index = False)\n",
    "parkAvgScore = byParkBase['Ratings Ratio'].mean()\n",
    "parkAvgScore.rename(columns={'Ratings Ratio':'Avg Ratio'}, inplace=True)\n",
    "parkStats = pd.merge(parkStats, parkAvgScore, on='Prop ID', how='left')\n",
    "\n",
    "# -- Utilize new park table which has parks broken up by census tracts if used!\n",
    "if SpatialKey == 'GEOID':\n",
    "    parkStats = pd.merge(censusParkDF[['Prop ID', 'GEOID', 'Fractional Acres']], parkStats, on = 'Prop ID', how = 'left')\n",
    "    \n",
    "    # -- Replace acerage with census breakup acreage\n",
    "    parkStats['Adjusted Acres'] = parkStats['Fractional Acres']\n",
    "    parkStats.drop('Fractional Acres', axis=1, inplace=True)\n",
    "\n",
    "# -- calculate weighted Score for park\n",
    "parkStats['Weighted Score'] = parkStats['Avg Ratio'] * parkStats['Adjusted Acres']"
   ]
  },
  {
   "cell_type": "code",
   "execution_count": null,
   "metadata": {
    "collapsed": false
   },
   "outputs": [],
   "source": [
    "# -- seed district_category stats DF\n",
    "byCategory = parkStats.groupby([SpatialKey] + ['Category'], as_index = False)\n",
    "categoryStats = byCategory.first()[[SpatialKey] + ['Category']]\n",
    "\n",
    "# -- sum Acres and Scores per category\n",
    "catSums = byCategory['Adjusted Acres', 'Weighted Score'].sum()\n",
    "catSums.rename(columns={'Weighted Score':'Score'}, inplace=True)\n",
    "categoryStats = pd.merge(categoryStats, catSums, on=[SpatialKey] + ['Category'], how='left')\n",
    "\n",
    "# -- count parks per category\n",
    "catCounts = byCategory.size().reset_index().rename(columns={0:'Counts'})\n",
    "categoryStats = pd.merge(categoryStats, catCounts, on=[SpatialKey] + ['Category'], how='left')"
   ]
  },
  {
   "cell_type": "code",
   "execution_count": null,
   "metadata": {
    "collapsed": false
   },
   "outputs": [],
   "source": [
    "# -- group by zipcode and category\n",
    "bySpatialKey = categoryStats.groupby(SpatialKey, as_index = False)\n",
    "SpatialKeySums = bySpatialKey.sum()[[SpatialKey] + ['Counts']]\n",
    "\n",
    "categoryStats = pd.merge(categoryStats, SpatialKeySums, on=SpatialKey, how = 'left', suffixes = ['_Cat', '_%s' % SpatialKey])"
   ]
  },
  {
   "cell_type": "code",
   "execution_count": null,
   "metadata": {
    "collapsed": false
   },
   "outputs": [],
   "source": [
    "# -- calculate weighted score for zipcode\n",
    "categoryStats['Weighted Score'] = categoryStats['Score'] / categoryStats['Adjusted Acres']\n",
    "categoryStats['Normalized Score'] = categoryStats['Weighted Score'] * (categoryStats['Counts_Cat'] / categoryStats['Counts_%s' % SpatialKey])"
   ]
  },
  {
   "cell_type": "code",
   "execution_count": null,
   "metadata": {
    "collapsed": false
   },
   "outputs": [],
   "source": [
    "# -- sum Scores per Zipcode\n",
    "bySpatialKey = categoryStats.groupby(SpatialKey)\n",
    "SpatialStats = bySpatialKey \\\n",
    "                    .sum() \\\n",
    "                    .reset_index() \\\n",
    "                    [[SpatialKey] + ['Normalized Score']]"
   ]
  },
  {
   "cell_type": "code",
   "execution_count": null,
   "metadata": {
    "collapsed": false
   },
   "outputs": [],
   "source": [
    "# -- floor scores at 0 just in case U/S overtake ratios\n",
    "SpatialStats.loc[SpatialStats['Normalized Score'] < 0, 'Normalized Score'] = 0"
   ]
  },
  {
   "cell_type": "code",
   "execution_count": null,
   "metadata": {
    "collapsed": false
   },
   "outputs": [],
   "source": [
    "# -- Write to csv\n",
    "now = datetime.now()\n",
    "SpatialStats.to_csv(OutputPath + 'ParkQuality_%s_%s_%s.csv' % (SpatialKey, Year, now.strftime('%m-%d-%Y')), sep=',')"
   ]
  },
  {
   "cell_type": "code",
   "execution_count": null,
   "metadata": {
    "collapsed": false
   },
   "outputs": [],
   "source": []
  },
  {
   "cell_type": "code",
   "execution_count": null,
   "metadata": {
    "collapsed": false
   },
   "outputs": [],
   "source": []
  },
  {
   "cell_type": "code",
   "execution_count": null,
   "metadata": {
    "collapsed": true
   },
   "outputs": [],
   "source": []
  }
 ],
 "metadata": {
  "kernelspec": {
   "display_name": "Python 2",
   "language": "python",
   "name": "python2"
  },
  "language_info": {
   "codemirror_mode": {
    "name": "ipython",
    "version": 2
   },
   "file_extension": ".py",
   "mimetype": "text/x-python",
   "name": "python",
   "nbconvert_exporter": "python",
   "pygments_lexer": "ipython2",
   "version": "2.7.10"
  }
 },
 "nbformat": 4,
 "nbformat_minor": 0
}
