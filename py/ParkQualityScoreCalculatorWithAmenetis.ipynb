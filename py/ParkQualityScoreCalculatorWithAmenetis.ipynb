{
 "cells": [
  {
   "cell_type": "code",
   "execution_count": 292,
   "metadata": {
    "collapsed": true
   },
   "outputs": [],
   "source": [
    "import pandas as pd\n",
    "import numpy as np\n",
    "import os\n",
    "import geopandas as gp\n",
    "from datetime import datetime"
   ]
  },
  {
   "cell_type": "code",
   "execution_count": 271,
   "metadata": {
    "collapsed": true
   },
   "outputs": [],
   "source": [
    "# -- year being used for evaluation\n",
    "Year = 2014\n",
    "\n",
    "# -- spatial key being used for calculation\n",
    "SpatialKey = 'ZIPCODE'\n",
    "\n",
    "# -- input path\n",
    "InputPath = '../../shapeData/Dataframes/'\n",
    "\n",
    "# -- output path\n",
    "OutputPath = '../../shapeData/Tables/'"
   ]
  },
  {
   "cell_type": "code",
   "execution_count": 272,
   "metadata": {
    "collapsed": false
   },
   "outputs": [
    {
     "name": "stdout",
     "output_type": "stream",
     "text": [
      "reading 2014_Inspections.csv...\n"
     ]
    }
   ],
   "source": [
    "# -- read the park quality file on a year basis \n",
    "try:\n",
    "    ParkQualityYear\n",
    "except:\n",
    "    print \"reading %d_Inspections.csv...\" % (Year)\n",
    "    yearDF = pd.read_csv(InputPath + '%d_Inspections.csv' % (Year), sep='\\t')"
   ]
  },
  {
   "cell_type": "code",
   "execution_count": 273,
   "metadata": {
    "collapsed": false
   },
   "outputs": [
    {
     "name": "stdout",
     "output_type": "stream",
     "text": [
      "reading PIP_Inventory20150618update_FINAL_ouafa.xlsx..\n"
     ]
    }
   ],
   "source": [
    "# -- read the Amenity file \n",
    "try:\n",
    "    ameneties\n",
    "except:\n",
    "    print \"reading PIP_Inventory20150618update_FINAL_ouafa.xlsx..\"\n",
    "    amenities = pd.read_excel(OutputPath + \"PIP_Inventory20150618update_FINAL_ouafa.xlsx\")"
   ]
  },
  {
   "cell_type": "code",
   "execution_count": 274,
   "metadata": {
    "collapsed": true
   },
   "outputs": [],
   "source": [
    "# -- Create a count of all available amenities in each park\n",
    "byParkID = amenities.groupby(\"Prop ID\", as_index = False)\n",
    "AmenitySums = byParkID.sum()[['Prop ID','AmenetiesCounted']]"
   ]
  },
  {
   "cell_type": "code",
   "execution_count": 275,
   "metadata": {
    "collapsed": false
   },
   "outputs": [],
   "source": [
    "# -- Get rid of the duplicated index column\n",
    "del yearDF['Unnamed: 0']"
   ]
  },
  {
   "cell_type": "code",
   "execution_count": 276,
   "metadata": {
    "collapsed": true
   },
   "outputs": [],
   "source": [
    "# -- categories\n",
    "categories = [u'Athletic Fields', u'Benches',\n",
    "       u'Fences', u'Glass', u'Graffiti', u'Horticultural Areas', u'Ice',\n",
    "       u'Lawns', u'Litter', u'Paved Surfaces', u'Play Equipment',\n",
    "       u'Safety Surface', u'Sidewalks', u'Trails', u'Trees', u'Water Bodies',\n",
    "       u'Weeds']"
   ]
  },
  {
   "cell_type": "code",
   "execution_count": 277,
   "metadata": {
    "collapsed": false
   },
   "outputs": [],
   "source": [
    "# -- calculate inspection scores [ratio]\n",
    "yearDF['Ratings Ratio'] = 1 - yearDF[categories].mean(axis=1)"
   ]
  },
  {
   "cell_type": "code",
   "execution_count": 278,
   "metadata": {
    "collapsed": false
   },
   "outputs": [],
   "source": [
    "# -- seed final park stats DF\n",
    "byParkID = yearDF[['Prop ID', 'PID_base', 'Category'] + [SpatialKey]].groupby(['Prop ID'], as_index = False)\n",
    "parkStats = byParkID.first()\n",
    "\n",
    "# -- average Park Score and Acres\n",
    "byPark = yearDF.groupby(['Prop ID'], as_index = False)\n",
    "parkAvgScore = byPark['Ratings Ratio','Adjusted Acres'].mean()\n",
    "parkAvgScore.rename(columns={'Ratings Ratio':'Avg Ratio'}, inplace=True)\n",
    "parkStats = pd.merge(parkStats, parkAvgScore, on='Prop ID', how='left')\n",
    "\n",
    "# -- calculate weighted Score for park\n",
    "parkStats['Weighted Score'] = parkStats['Avg Ratio'] * parkStats['Adjusted Acres']"
   ]
  },
  {
   "cell_type": "code",
   "execution_count": 279,
   "metadata": {
    "collapsed": false
   },
   "outputs": [],
   "source": [
    "parksWithAmenities = pd.merge(parkStats,AmenitySums, on ='Prop ID')"
   ]
  },
  {
   "cell_type": "code",
   "execution_count": 280,
   "metadata": {
    "collapsed": false
   },
   "outputs": [],
   "source": [
    "# -- seed district_category stats DF to calculate the mean Ameneties in each zipcode\n",
    "byCategory = parksWithAmeneties.groupby([SpatialKey] + ['Category'], as_index = False)\n",
    "\n",
    "# -- calculate average amneties in each zipcode <m>\n",
    "catAmenity = byCategory['AmenetiesCounted'].mean()\n",
    "catAmenity.rename(columns={'AmenetiesCounted':'<m>'}, inplace=True)\n",
    "# catAmenity.loc[catAmenity['ZIPCODE']==10308 ]\n",
    "# catAmenity.loc[catAmenity['<m>']==0 ]\n",
    "\n",
    "# -- special cases where the mean was aggregated wrong\n",
    "parkZip10475 = parksWithAmenities.loc[parksWithAmenities['ZIPCODE']==10475 ]\n",
    "byCategory10475 = parkZip10475.groupby([SpatialKey] + ['Category'], as_index = False)\n",
    "catAmenity10475 = byCategory10475['AmenetiesCounted'].mean()\n",
    "\n",
    "parkZip11418 = parksWithAmenities.loc[parksWithAmenities['ZIPCODE']==11418 ]\n",
    "byCategory11418 = parkZip11418.groupby([SpatialKey] + ['Category'], as_index = False)\n",
    "catAmenity11418 = byCategory11418['AmenetiesCounted'].mean()\n",
    "\n",
    "specialcases = pd.concat([catAmenity10475,catAmenity11418])"
   ]
  },
  {
   "cell_type": "code",
   "execution_count": 281,
   "metadata": {
    "collapsed": false
   },
   "outputs": [],
   "source": [
    "#Join the amenity average table to the orginal park info table to calculate the equation\n",
    "amenityEquationDataframe = pd.merge(parksWithAmenities, catAmenity, on=[SpatialKey,'Category'], how='left')\n",
    "# -- Add the special cases\n",
    "amenityEquationDataframe.loc[(amenityEquationDataframe['ZIPCODE'] == 10475) & (amenityEquationDataframe['Category']== 'Large Park'), '<m>'] = 1.888889\n",
    "amenityEquationDataframe.loc[(amenityEquationDataframe['ZIPCODE'] == 10475) & (amenityEquationDataframe['Category']== 'Small Park'), '<m>'] = 6.666667\n",
    "amenityEquationDataframe.loc[(amenityEquationDataframe['ZIPCODE'] == 11418) & (amenityEquationDataframe['Category']== 'Large Park'), '<m>'] = 0.800000\n",
    "amenityEquationDataframe.loc[(amenityEquationDataframe['ZIPCODE'] == 11418) & (amenityEquationDataframe['Category']== 'Small Park'), '<m>'] = 4.333333\n",
    "# -- Apply Equation\n",
    "amenityEquationDataframe['m/<m>'] = amenityEquationDataframe['AmenetiesCounted']/amenityEquationDataframe['<m>']\n",
    "amenityEquationDataframe['m/<m>'].replace(np.inf, 0)\n",
    "amenityEquationDataframe['m/<m>'].fillna(0, inplace=True)\n",
    "amenityEquationDataframe['1 + m/<m>'] = 1+(amenityEquationDataframe['m/<m>'])\n",
    "amenityEquationDataframe['W'] = amenityEquationDataframe['Adjusted Acres']*amenityEquationDataframe['1 + m/<m>']\n",
    "amenityEquationDataframe['W*Q'] = amenityEquationDataframe['W']*amenityEquationDataframe['Avg Ratio']"
   ]
  },
  {
   "cell_type": "code",
   "execution_count": 283,
   "metadata": {
    "collapsed": false
   },
   "outputs": [],
   "source": [
    "# -- seed district_category stats DF\n",
    "byCategory2 = amenityEquationDataframe.groupby([SpatialKey] + ['Category'], as_index = False)\n",
    "categoryStats = byCategory2.first()[[SpatialKey] + ['Category']]\n",
    "\n",
    "# -- sum WQ and W per category\n",
    "catSums = byCategory2['Adjusted Acres', 'Weighted Score','W*Q', 'W'].sum()\n",
    "catSums.rename(columns={'Weighted Score':'Score'}, inplace=True)\n",
    "categoryStats = pd.merge(categoryStats, catSums, on=[SpatialKey] + ['Category'], how='left')\n",
    "\n",
    "# -- count parks per category\n",
    "catCounts = byCategory2.size().reset_index().rename(columns={0:'Counts'})\n",
    "categoryStats = pd.merge(categoryStats, catCounts, on=[SpatialKey] + ['Category'], how='left')"
   ]
  },
  {
   "cell_type": "code",
   "execution_count": 284,
   "metadata": {
    "collapsed": false
   },
   "outputs": [],
   "source": [
    "# -- group by zipcode and category\n",
    "bySpatialKey = categoryStats.groupby(SpatialKey, as_index = False)\n",
    "SpatialKeySums = bySpatialKey.sum()[[SpatialKey] + ['Counts']]\n",
    "\n",
    "categoryStats = pd.merge(categoryStats, SpatialKeySums, on=SpatialKey, how = 'left', suffixes = ['_Cat', '_%s' % SpatialKey])"
   ]
  },
  {
   "cell_type": "code",
   "execution_count": 285,
   "metadata": {
    "collapsed": false
   },
   "outputs": [],
   "source": [
    "# -- calculate weighted score for SpatialKey(zipcode)\n",
    "categoryStats['Weighted Score'] = categoryStats['Score'] / categoryStats['Adjusted Acres']\n",
    "categoryStats['Area Normalized Score'] = categoryStats['Weighted Score'] * (categoryStats['Counts_Cat'] / categoryStats['Counts_%s' % SpatialKey])\n",
    "categoryStats['Equation Score'] = categoryStats['W*Q'] / categoryStats['W']\n",
    "categoryStats['Ameneties & Area Normalized Score'] = categoryStats['Equation Score'] * (categoryStats['Counts_Cat'] / categoryStats['Counts_%s' % SpatialKey])"
   ]
  },
  {
   "cell_type": "code",
   "execution_count": 286,
   "metadata": {
    "collapsed": false
   },
   "outputs": [],
   "source": [
    "# -- sum Scores per Zipcode\n",
    "bySpatialKey = categoryStats.groupby(SpatialKey)\n",
    "SpatialStats = bySpatialKey \\\n",
    "                    .sum() \\\n",
    "                    .reset_index() \\\n",
    "                    [[SpatialKey] + ['Ameneties & Area Normalized Score']+['Area Normalized Score']]"
   ]
  },
  {
   "cell_type": "code",
   "execution_count": 289,
   "metadata": {
    "collapsed": false
   },
   "outputs": [],
   "source": [
    "# -- floor scores at 0 just in case U/S overtake ratios\n",
    "SpatialStats.loc[SpatialStats['Ameneties & Area Normalized Score'] < 0, 'Ameneties & Area Normalized Score'] = 0\n",
    "SpatialStats.loc[SpatialStats['Area Normalized Score'] < 0, 'Area Normalized Score'] = 0"
   ]
  },
  {
   "cell_type": "code",
   "execution_count": 293,
   "metadata": {
    "collapsed": false
   },
   "outputs": [],
   "source": [
    "# -- Write to csv\n",
    "now = datetime.now()\n",
    "SpatialStats.to_csv(OutputPath + 'AmenityAreaParkQuality%s_%s_%s.csv' % (SpatialKey, Year, now.strftime('%m-%d-%Y')), sep=',')"
   ]
  },
  {
   "cell_type": "code",
   "execution_count": null,
   "metadata": {
    "collapsed": true
   },
   "outputs": [],
   "source": []
  }
 ],
 "metadata": {
  "kernelspec": {
   "display_name": "Python 2",
   "language": "python",
   "name": "python2"
  },
  "language_info": {
   "codemirror_mode": {
    "name": "ipython",
    "version": 2
   },
   "file_extension": ".py",
   "mimetype": "text/x-python",
   "name": "python",
   "nbconvert_exporter": "python",
   "pygments_lexer": "ipython2",
   "version": "2.7.10"
  }
 },
 "nbformat": 4,
 "nbformat_minor": 0
}
