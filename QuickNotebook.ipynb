{
 "metadata": {
  "name": "",
  "signature": "sha256:8f1bc165739516f820ccdc0fbb818feed28472afba2cee8501d174bb9968ec59"
 },
 "nbformat": 3,
 "nbformat_minor": 0,
 "worksheets": []
}